{
  "nbformat": 4,
  "nbformat_minor": 0,
  "metadata": {
    "colab": {
      "name": "AssignmentSix.ipynb",
      "version": "0.3.2",
      "provenance": [],
      "collapsed_sections": [],
      "include_colab_link": true
    },
    "kernelspec": {
      "name": "python3",
      "display_name": "Python 3"
    }
  },
  "cells": [
    {
      "cell_type": "markdown",
      "metadata": {
        "id": "view-in-github",
        "colab_type": "text"
      },
      "source": [
        "<a href=\"https://colab.research.google.com/github/ConnerV42/MachineLearning/blob/master/AssignmentSix.ipynb\" target=\"_parent\"><img src=\"https://colab.research.google.com/assets/colab-badge.svg\" alt=\"Open In Colab\"/></a>"
      ]
    },
    {
      "cell_type": "markdown",
      "metadata": {
        "id": "KXNfWNt8OWoK",
        "colab_type": "text"
      },
      "source": [
        "In this Jupyter Notebook, we will performing deep learning on text data from the IMDB dataset. In order to download the relevent embeddings, uncomment the !wget command, and run the first cell. Once the !wget command has been run once, you should be able to extract ***glove.6B.100d.txt*** using zipfile."
      ]
    },
    {
      "cell_type": "code",
      "metadata": {
        "id": "hfgDw5fq2g1Q",
        "colab_type": "code",
        "outputId": "34876113-8eb5-411e-eef4-6d939c98779f",
        "colab": {
          "base_uri": "https://localhost:8080/",
          "height": 34
        }
      },
      "source": [
        "## Command to download glove.6B.zip to your colab environment\n",
        "## !wget !wget http://nlp.stanford.edu/data/glove.6B.zip\n",
        "\n",
        "## Extract the 100 dimension embedding: aclImdb.zip\n",
        "import zipfile\n",
        "zipfile.ZipFile('glove.6B.zip', 'r').extract('glove.6B.100d.txt', '.')"
      ],
      "execution_count": 0,
      "outputs": [
        {
          "output_type": "execute_result",
          "data": {
            "text/plain": [
              "'glove.6B.100d.txt'"
            ]
          },
          "metadata": {
            "tags": []
          },
          "execution_count": 3
        }
      ]
    },
    {
      "cell_type": "markdown",
      "metadata": {
        "id": "P8eTvT4mMZsa",
        "colab_type": "text"
      },
      "source": [
        "Next, we will be importing numpy for mathematical operations, as well as the imdb dataset, and the keras preprocessing library of python functions.\n",
        "\n",
        "The ***max_features*** variable exists to specify to our model the number of words to consider as features in the model.\n",
        "\n",
        "The ***imdb.load_data()*** function loads our data as a list of integers, and cleanly splits it into training and validation sets. From there, we call the keras function ***pad_sequences()***, which converts the list of integers into a 2D integer tensor of shape (samples, maxlen)."
      ]
    },
    {
      "cell_type": "code",
      "metadata": {
        "id": "Zz8QWdr-Ge1T",
        "colab_type": "code",
        "colab": {}
      },
      "source": [
        "#!pip install numpy==1.16.1\n",
        "import numpy as np\n",
        "from keras.datasets import imdb\n",
        "from keras import preprocessing\n",
        "\n",
        "max_features = 10000\n",
        "maxlen = 20\n",
        "\n",
        "(x_train, y_train), (x_test, y_test) = imdb.load_data(num_words=max_features)\n",
        "\n",
        "x_train = preprocessing.sequence.pad_sequences(x_train, maxlen=maxlen)\n",
        "x_test = preprocessing.sequence.pad_sequences(x_test, maxlen=maxlen)\n",
        "tokenizer = preprocessing.text.Tokenizer(num_words=max_features)\n",
        "word_index = tokenizer.word_index"
      ],
      "execution_count": 0,
      "outputs": []
    },
    {
      "cell_type": "markdown",
      "metadata": {
        "id": "yxtqZob7L8yE",
        "colab_type": "text"
      },
      "source": [
        "In this next step, we use a for loop in order to create an embedding matrix, that we can pass into the ***Embedding()*** function/layer of our model. The matrix is the shape of (max_words, embedding_dim). \n",
        "\n",
        "The model contains the aforementioned embedding layer,\n",
        "a Flatten layer, and a Dense layer. There will be 10 epochs for the model."
      ]
    },
    {
      "cell_type": "code",
      "metadata": {
        "id": "r_ofkTJQ3b6o",
        "colab_type": "code",
        "outputId": "479e643f-b943-444d-af3d-c637b8ce4a19",
        "colab": {
          "base_uri": "https://localhost:8080/",
          "height": 646
        }
      },
      "source": [
        "f = open(\"glove.6B.100d.txt\")\n",
        "\n",
        "embeddings_index = {}\n",
        "for line in f:\n",
        "  values = line.split()\n",
        "  word = values[0]\n",
        "  coefs = np.asarray(values[1:], dtype='float32')\n",
        "  embeddings_index[word] = coefs\n",
        "f.close()\n",
        "\n",
        "print('Found %s word vectors' % len(embeddings_index))\n",
        "\n",
        "embedding_dim = 100\n",
        "embedding_matrix = np.zeros((max_features, embedding_dim))\n",
        "for word, i in word_index.items():\n",
        "  if i < max_features:\n",
        "    embedding_vector = embeddings_index.get(word)\n",
        "    if embedding_vector is not None:\n",
        "      embedding_matrix[i] = embedding_vector\n",
        "\n",
        "from keras.models import Sequential\n",
        "from keras.layers import Embedding, Flatten, Dense\n",
        "\n",
        "model = Sequential()\n",
        "model.add(Embedding(max_features, embedding_dim, input_length=maxlen))\n",
        "model.add(Flatten())\n",
        "model.add(Dense(32, activation='relu'))\n",
        "model.add(Dense(1, activation='sigmoid'))\n",
        "model.summary()\n",
        "\n",
        "# This is where we are injecting our embeddings matrix into our model.\n",
        "# Additionally, we are setting the embedding layer's 'trainable' field to false,\n",
        "# because the pretrained parts of our model shouldn't be updated during training.\n",
        "model.layers[0].set_weights([embedding_matrix])\n",
        "model.layers[0].trainable = False\n",
        "\n",
        "model.compile(optimizer='rmsprop', loss='binary_crossentropy', metrics=['acc'])\n",
        "\n",
        "history = model.fit(x_train, y_train,\n",
        "                   epochs=10,\n",
        "                   batch_size=32,\n",
        "                   validation_split=0.2)"
      ],
      "execution_count": 22,
      "outputs": [
        {
          "output_type": "stream",
          "text": [
            "Found 400000 word vectors\n",
            "_________________________________________________________________\n",
            "Layer (type)                 Output Shape              Param #   \n",
            "=================================================================\n",
            "embedding_6 (Embedding)      (None, 20, 100)           1000000   \n",
            "_________________________________________________________________\n",
            "flatten_4 (Flatten)          (None, 2000)              0         \n",
            "_________________________________________________________________\n",
            "dense_7 (Dense)              (None, 32)                64032     \n",
            "_________________________________________________________________\n",
            "dense_8 (Dense)              (None, 1)                 33        \n",
            "=================================================================\n",
            "Total params: 1,064,065\n",
            "Trainable params: 1,064,065\n",
            "Non-trainable params: 0\n",
            "_________________________________________________________________\n",
            "Train on 20000 samples, validate on 5000 samples\n",
            "Epoch 1/10\n",
            "20000/20000 [==============================] - 2s 102us/step - loss: 0.6932 - acc: 0.4964 - val_loss: 0.6932 - val_acc: 0.4938\n",
            "Epoch 2/10\n",
            "20000/20000 [==============================] - 2s 89us/step - loss: 0.6932 - acc: 0.4966 - val_loss: 0.6933 - val_acc: 0.4938\n",
            "Epoch 3/10\n",
            "20000/20000 [==============================] - 2s 88us/step - loss: 0.6932 - acc: 0.4975 - val_loss: 0.6933 - val_acc: 0.4938\n",
            "Epoch 4/10\n",
            "20000/20000 [==============================] - 2s 91us/step - loss: 0.6932 - acc: 0.4989 - val_loss: 0.6932 - val_acc: 0.4938\n",
            "Epoch 5/10\n",
            "20000/20000 [==============================] - 2s 88us/step - loss: 0.6932 - acc: 0.4964 - val_loss: 0.6933 - val_acc: 0.4938\n",
            "Epoch 6/10\n",
            "20000/20000 [==============================] - 2s 90us/step - loss: 0.6931 - acc: 0.5019 - val_loss: 0.6931 - val_acc: 0.5062\n",
            "Epoch 7/10\n",
            "20000/20000 [==============================] - 2s 91us/step - loss: 0.6932 - acc: 0.5022 - val_loss: 0.6931 - val_acc: 0.5062\n",
            "Epoch 8/10\n",
            "20000/20000 [==============================] - 2s 90us/step - loss: 0.6932 - acc: 0.5007 - val_loss: 0.6932 - val_acc: 0.4938\n",
            "Epoch 9/10\n",
            "20000/20000 [==============================] - 2s 87us/step - loss: 0.6932 - acc: 0.4980 - val_loss: 0.6932 - val_acc: 0.4938\n",
            "Epoch 10/10\n",
            "20000/20000 [==============================] - 2s 89us/step - loss: 0.6932 - acc: 0.4979 - val_loss: 0.6932 - val_acc: 0.4938\n"
          ],
          "name": "stdout"
        }
      ]
    },
    {
      "cell_type": "code",
      "metadata": {
        "id": "2c8GoI3ZbrPt",
        "colab_type": "code",
        "outputId": "2fc06628-cead-43df-cac2-0f28ab25a9c6",
        "colab": {
          "base_uri": "https://localhost:8080/",
          "height": 545
        }
      },
      "source": [
        "# Here, we will be plotting the Validation Accuracy, and well as the Validation Loss\n",
        "\n",
        "import matplotlib.pyplot as plt\n",
        "\n",
        "acc = history.history['acc']\n",
        "val_acc = history.history['val_acc']\n",
        "loss = history.history['loss']\n",
        "val_loss = history.history['val_loss']\n",
        "\n",
        "epochs = range(1, len(acc) + 1)\n",
        "\n",
        "plt.plot(epochs, acc, 'bo', label='Training acc')\n",
        "plt.plot(epochs, val_acc, 'b', label='Validation acc')\n",
        "plt.title('Training and validation accuracy')\n",
        "plt.legend()\n",
        "\n",
        "plt.figure()\n",
        "\n",
        "plt.plot(epochs, loss, 'bo', label='Training loss')\n",
        "plt.plot(epochs, val_loss, 'b', label='Validation loss')\n",
        "plt.title('Training and validation loss')\n",
        "plt.legend()\n",
        "plt.show()"
      ],
      "execution_count": 23,
      "outputs": [
        {
          "output_type": "display_data",
          "data": {
            "image/png": "[encoded data removed]",
            "text/plain": [
              "<Figure size 432x288 with 1 Axes>"
            ]
          },
          "metadata": {
            "tags": []
          }
        },
        {
          "output_type": "display_data",
          "data": {
            "image/png": "[encoded data removed]",
            "text/plain": [
              "<Figure size 432x288 with 1 Axes>"
            ]
          },
          "metadata": {
            "tags": []
          }
        }
      ]
    },
    {
      "cell_type": "code",
      "metadata": {
        "id": "YzY3fn-ghne8",
        "colab_type": "code",
        "colab": {
          "base_uri": "https://localhost:8080/",
          "height": 51
        },
        "outputId": "c7964a40-768d-4228-821e-1913e189f027"
      },
      "source": [
        "\n",
        "model.evaluate(x_test, y_test)"
      ],
      "execution_count": 14,
      "outputs": [
        {
          "output_type": "stream",
          "text": [
            "25000/25000 [==============================] - 1s 35us/step\n"
          ],
          "name": "stdout"
        },
        {
          "output_type": "execute_result",
          "data": {
            "text/plain": [
              "[2.6185387660980224, 0.67492]"
            ]
          },
          "metadata": {
            "tags": []
          },
          "execution_count": 14
        }
      ]
    }
  ]
}