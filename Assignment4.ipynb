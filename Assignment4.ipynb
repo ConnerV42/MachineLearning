{
 "cells": [
  {
   "cell_type": "markdown",
   "metadata": {},
   "source": [
    "Predicting Hand-Written Digits\n",
    "\n",
    "In this Jupyter Notebook, we will be using numpy, keras, and scikit-learn to predict which digit is contained in pictures of hand-written digits.\n",
    "\n",
    "There will be four neural networks defined in this notebook. The former two will have a single hidden layer each, and the ladder two will have two hidden layers each.\n",
    "\n",
    "First: We will create a Neural Network model with 100 nodes contained in its lone hidden layer..."
   ]
  },
  {
   "cell_type": "code",
   "execution_count": 1,
   "metadata": {},
   "outputs": [
    {
     "name": "stderr",
     "output_type": "stream",
     "text": [
      "Using TensorFlow backend.\n"
     ]
    },
    {
     "name": "stdout",
     "output_type": "stream",
     "text": [
      "(60000, 28, 28)\n",
      "(60000,)\n",
      "(10000, 28, 28)\n",
      "(10000,)\n",
      "label:  6\n"
     ]
    },
    {
     "data": {
      "text/plain": [
       "<Figure size 640x480 with 1 Axes>"
      ]
     },
     "metadata": {},
     "output_type": "display_data"
    }
   ],
   "source": [
    "## importing the mnist dataset, which contains 60,000 handwritten digits between 0 - 9\n",
    "import numpy as np\n",
    "from keras.datasets import mnist\n",
    "from keras.utils import to_categorical\n",
    "import pylab as plt\n",
    "import matplotlib.cm as cm\n",
    "\n",
    "(x_train, y_train), (x_test, y_test) = mnist.load_data()\n",
    "\n",
    "print(x_train.shape)\n",
    "print(y_train.shape)\n",
    "print(x_test.shape)\n",
    "print(y_test.shape)\n",
    "\n",
    "# The following code grabs one example photo of a handwritten digit in the mnist dataset...\n",
    "i = np.where(y_train==6)[0][0]\n",
    "print(\"label: \", y_train[i])\n",
    "sample = x_train[i, ...]\n",
    "sample.shape\n",
    "plt.imshow(sample, cmap=cm.gray)\n",
    "plt.show()"
   ]
  },
  {
   "cell_type": "code",
   "execution_count": 2,
   "metadata": {},
   "outputs": [
    {
     "name": "stdout",
     "output_type": "stream",
     "text": [
      "(60000, 784)\n"
     ]
    }
   ],
   "source": [
    "# The data needs to be in a flat array for each sample, so we will reshape from 28 * 28 to 784\n",
    "x_train = x_train.reshape(60000, 28*28)\n",
    "print(x_train.shape)\n",
    "\n",
    "# We will one-hot encode the labels\n",
    "y_train = to_categorical(y_train)"
   ]
  },
  {
   "cell_type": "code",
   "execution_count": 3,
   "metadata": {},
   "outputs": [
    {
     "name": "stdout",
     "output_type": "stream",
     "text": [
      "(60000, 10)\n",
      "label:  [0. 0. 0. 0. 0. 0. 1. 0. 0. 0.]\n"
     ]
    }
   ],
   "source": [
    "print(y_train.shape)\n",
    "print(\"label: \", y_train[i, :])"
   ]
  },
  {
   "cell_type": "code",
   "execution_count": 4,
   "metadata": {},
   "outputs": [],
   "source": [
    "# Okay, now let's get a cross-validation set from the training data.\n",
    "from sklearn.model_selection import train_test_split\n",
    "x_train_part, x_train_val, y_train_part, y_train_val = \\\n",
    "    train_test_split(x_train, y_train, test_size=0.2, random_state=42, stratify=np.argmax(y_train, axis=1\n",
    "))"
   ]
  },
  {
   "cell_type": "code",
   "execution_count": 5,
   "metadata": {},
   "outputs": [
    {
     "name": "stdout",
     "output_type": "stream",
     "text": [
      "WARNING:tensorflow:From /home/connerverret/test/lib/python3.6/site-packages/tensorflow/python/framework/op_def_library.py:263: colocate_with (from tensorflow.python.framework.ops) is deprecated and will be removed in a future version.\n",
      "Instructions for updating:\n",
      "Colocations handled automatically by placer.\n"
     ]
    }
   ],
   "source": [
    "from keras import models\n",
    "from keras import layers\n",
    "from keras import optimizers\n",
    "\n",
    "model1 = models.Sequential()\n",
    "model1.add(layers.Dense(100, activation='relu', input_shape=(784,)))\n",
    "model1.add(layers.Dense(10, activation='softmax'))\n",
    "\n",
    "# compile the model\n",
    "model1.compile(optimizer='rmsprop',\n",
    "              loss='categorical_crossentropy',\n",
    "              metrics=['accuracy'])"
   ]
  },
  {
   "cell_type": "code",
   "execution_count": 6,
   "metadata": {},
   "outputs": [
    {
     "name": "stdout",
     "output_type": "stream",
     "text": [
      "WARNING:tensorflow:From /home/connerverret/test/lib/python3.6/site-packages/tensorflow/python/ops/math_ops.py:3066: to_int32 (from tensorflow.python.ops.math_ops) is deprecated and will be removed in a future version.\n",
      "Instructions for updating:\n",
      "Use tf.cast instead.\n",
      "Train on 48000 samples, validate on 12000 samples\n",
      "Epoch 1/25\n",
      "48000/48000 [==============================] - 1s 20us/step - loss: 8.3367 - acc: 0.4756 - val_loss: 6.1846 - val_acc: 0.6098\n",
      "Epoch 2/25\n",
      "48000/48000 [==============================] - 1s 18us/step - loss: 5.7903 - acc: 0.6351 - val_loss: 5.6940 - val_acc: 0.6417\n",
      "Epoch 3/25\n",
      "48000/48000 [==============================] - 1s 18us/step - loss: 5.5310 - acc: 0.6524 - val_loss: 5.3611 - val_acc: 0.6638\n",
      "Epoch 4/25\n",
      "48000/48000 [==============================] - 1s 19us/step - loss: 5.3923 - acc: 0.6619 - val_loss: 5.4200 - val_acc: 0.6601\n",
      "Epoch 5/25\n",
      "48000/48000 [==============================] - 1s 19us/step - loss: 5.3452 - acc: 0.6655 - val_loss: 5.4095 - val_acc: 0.6606\n",
      "Epoch 6/25\n",
      "48000/48000 [==============================] - 1s 19us/step - loss: 5.2945 - acc: 0.6685 - val_loss: 5.3146 - val_acc: 0.6668\n",
      "Epoch 7/25\n",
      "48000/48000 [==============================] - 1s 19us/step - loss: 5.2756 - acc: 0.6699 - val_loss: 5.3434 - val_acc: 0.6653\n",
      "Epoch 8/25\n",
      "48000/48000 [==============================] - 1s 19us/step - loss: 5.2333 - acc: 0.6731 - val_loss: 5.2479 - val_acc: 0.6716\n",
      "Epoch 9/25\n",
      "48000/48000 [==============================] - 1s 19us/step - loss: 5.2088 - acc: 0.6744 - val_loss: 5.2192 - val_acc: 0.6738\n",
      "Epoch 10/25\n",
      "48000/48000 [==============================] - 1s 18us/step - loss: 5.1865 - acc: 0.6759 - val_loss: 5.3087 - val_acc: 0.6677\n",
      "Epoch 11/25\n",
      "48000/48000 [==============================] - 1s 18us/step - loss: 5.1648 - acc: 0.6770 - val_loss: 5.1749 - val_acc: 0.6766\n",
      "Epoch 12/25\n",
      "48000/48000 [==============================] - 1s 18us/step - loss: 5.1235 - acc: 0.6802 - val_loss: 5.1658 - val_acc: 0.6770\n",
      "Epoch 13/25\n",
      "48000/48000 [==============================] - 1s 18us/step - loss: 5.1174 - acc: 0.6801 - val_loss: 5.1768 - val_acc: 0.6764\n",
      "Epoch 14/25\n",
      "48000/48000 [==============================] - 1s 18us/step - loss: 5.1134 - acc: 0.6807 - val_loss: 5.1319 - val_acc: 0.6799\n",
      "Epoch 15/25\n",
      "48000/48000 [==============================] - 1s 18us/step - loss: 5.1025 - acc: 0.6818 - val_loss: 5.1211 - val_acc: 0.6802\n",
      "Epoch 16/25\n",
      "48000/48000 [==============================] - 1s 18us/step - loss: 5.0775 - acc: 0.6833 - val_loss: 5.1241 - val_acc: 0.6805\n",
      "Epoch 17/25\n",
      "48000/48000 [==============================] - 1s 18us/step - loss: 5.0684 - acc: 0.6836 - val_loss: 5.1109 - val_acc: 0.6812\n",
      "Epoch 18/25\n",
      "48000/48000 [==============================] - 1s 18us/step - loss: 5.0487 - acc: 0.6851 - val_loss: 5.1265 - val_acc: 0.6795\n",
      "Epoch 19/25\n",
      "48000/48000 [==============================] - 1s 18us/step - loss: 5.0667 - acc: 0.6840 - val_loss: 5.1319 - val_acc: 0.6797\n",
      "Epoch 20/25\n",
      "48000/48000 [==============================] - 1s 18us/step - loss: 5.0341 - acc: 0.6861 - val_loss: 5.1144 - val_acc: 0.6804\n",
      "Epoch 21/25\n",
      "48000/48000 [==============================] - 1s 18us/step - loss: 5.0200 - acc: 0.6872 - val_loss: 5.0888 - val_acc: 0.6826\n",
      "Epoch 22/25\n",
      "48000/48000 [==============================] - 1s 18us/step - loss: 5.0193 - acc: 0.6869 - val_loss: 5.1146 - val_acc: 0.6811\n",
      "Epoch 23/25\n",
      "48000/48000 [==============================] - 1s 18us/step - loss: 5.0163 - acc: 0.6874 - val_loss: 5.0777 - val_acc: 0.6833\n",
      "Epoch 24/25\n",
      "48000/48000 [==============================] - 1s 18us/step - loss: 4.9938 - acc: 0.6889 - val_loss: 5.1084 - val_acc: 0.6817\n",
      "Epoch 25/25\n",
      "48000/48000 [==============================] - 1s 18us/step - loss: 5.0072 - acc: 0.6881 - val_loss: 5.0711 - val_acc: 0.6837\n"
     ]
    }
   ],
   "source": [
    "# Now fit the model:\n",
    "eps = 25\n",
    "history = model1.fit(x_train_part,\n",
    "                    y_train_part,\n",
    "                    batch_size=1024,\n",
    "                    epochs=eps,\n",
    "                    validation_data=(x_train_val, y_train_val))"
   ]
  },
  {
   "cell_type": "markdown",
   "metadata": {},
   "source": [
    "I will now plot the Training and Validation loss results from the Neural Network:"
   ]
  },
  {
   "cell_type": "code",
   "execution_count": 7,
   "metadata": {},
   "outputs": [
    {
     "data": {
      "image/png": "[encoded data removed]",
      "text/plain": [
       "<Figure size 432x288 with 1 Axes>"
      ]
     },
     "metadata": {
      "needs_background": "light"
     },
     "output_type": "display_data"
    }
   ],
   "source": [
    "# plot the learning parameters\n",
    "import matplotlib.pyplot as plt\n",
    "\n",
    "loss_values = history.history['loss']\n",
    "val_loss_values = history.history['val_loss']\n",
    "\n",
    "epochs = range(1, eps + 1)\n",
    "\n",
    "plt.plot(epochs, loss_values, 'g', label='Training Loss')\n",
    "plt.plot(epochs, val_loss_values, 'b', label='Validation Loss')\n",
    "plt.title('Training and Validation Loss')\n",
    "plt.xlabel('Epochs')\n",
    "plt.ylabel('Loss')\n",
    "plt.legend()\n",
    "\n",
    "plt.show()"
   ]
  },
  {
   "cell_type": "markdown",
   "metadata": {},
   "source": [
    "Next, I will plot the Training Accuracy and the Validation Accuracy results from the Neural Network: "
   ]
  },
  {
   "cell_type": "code",
   "execution_count": 8,
   "metadata": {},
   "outputs": [
    {
     "data": {
      "image/png": "[encoded data removed]",
      "text/plain": [
       "<Figure size 432x288 with 1 Axes>"
      ]
     },
     "metadata": {
      "needs_background": "light"
     },
     "output_type": "display_data"
    }
   ],
   "source": [
    "plt.clf() # clear the figure\n",
    "\n",
    "acc_values = history.history['acc']\n",
    "val_acc_values = history.history['val_acc']\n",
    "\n",
    "plt.plot(epochs, acc_values, 'g', label='Training Accuracy')\n",
    "plt.plot(epochs, val_acc_values, 'b', label='Validation Accuracy')\n",
    "plt.title('Training and Validation Accuracy')\n",
    "plt.xlabel('Epochs')\n",
    "plt.ylabel('Accuracy')\n",
    "plt.legend()\n",
    "\n",
    "plt.show()"
   ]
  },
  {
   "cell_type": "code",
   "execution_count": 9,
   "metadata": {},
   "outputs": [
    {
     "data": {
      "text/plain": [
       "array([[ 972,    0,    0,    1,    3,    0,    0,    0,    3,    1],\n",
       "       [   0, 1118,    4,    1,    0,    0,    0,    0,   12,    0],\n",
       "       [   8,    0,  986,    9,   14,    0,    0,    0,   14,    1],\n",
       "       [   0,    0,    4,  982,    5,    0,    0,    0,   16,    3],\n",
       "       [   0,    1,    3,    0,  972,    0,    0,    0,    2,    4],\n",
       "       [  54,    7,    3,  312,   45,    0,    0,    0,  423,   48],\n",
       "       [ 141,    8,   34,    7,  607,    1,    0,    0,  159,    1],\n",
       "       [   6,   12,  154,  253,   46,    0,    0,    0,   35,  522],\n",
       "       [   5,    1,    5,   10,   11,    0,    0,    0,  940,    2],\n",
       "       [   5,    2,    0,   11,   42,    0,    0,    0,    7,  942]])"
      ]
     },
     "execution_count": 9,
     "metadata": {},
     "output_type": "execute_result"
    }
   ],
   "source": [
    "# Time to view the resulting confusion matrix\n",
    "from sklearn.metrics import confusion_matrix, classification_report\n",
    "\n",
    "y_pred = model1.predict(x_test.reshape(10000, 28*28))\n",
    "y_pred_test = np.argmax(y_pred, axis=1)\n",
    "\n",
    "confusion_matrix(y_test, y_pred_test)"
   ]
  },
  {
   "cell_type": "code",
   "execution_count": 10,
   "metadata": {},
   "outputs": [
    {
     "name": "stdout",
     "output_type": "stream",
     "text": [
      "              precision    recall  f1-score   support\n",
      "\n",
      "           0       0.82      0.99      0.90       980\n",
      "           1       0.97      0.99      0.98      1135\n",
      "           2       0.83      0.96      0.89      1032\n",
      "           3       0.62      0.97      0.76      1010\n",
      "           4       0.56      0.99      0.71       982\n",
      "           5       0.00      0.00      0.00       892\n",
      "           6       0.00      0.00      0.00       958\n",
      "           7       0.00      0.00      0.00      1028\n",
      "           8       0.58      0.97      0.73       974\n",
      "           9       0.62      0.93      0.74      1009\n",
      "\n",
      "   micro avg       0.69      0.69      0.69     10000\n",
      "   macro avg       0.50      0.68      0.57     10000\n",
      "weighted avg       0.51      0.69      0.58     10000\n",
      "\n"
     ]
    },
    {
     "name": "stderr",
     "output_type": "stream",
     "text": [
      "/home/connerverret/test/lib/python3.6/site-packages/sklearn/metrics/classification.py:1143: UndefinedMetricWarning: Precision and F-score are ill-defined and being set to 0.0 in labels with no predicted samples.\n",
      "  'precision', 'predicted', average, warn_for)\n"
     ]
    }
   ],
   "source": [
    "print(classification_report(y_test, y_pred_test))"
   ]
  },
  {
   "cell_type": "markdown",
   "metadata": {},
   "source": [
    "Next, I will create a Neural Network model with 400 nodes in the hidden layer:"
   ]
  },
  {
   "cell_type": "code",
   "execution_count": 11,
   "metadata": {},
   "outputs": [
    {
     "name": "stdout",
     "output_type": "stream",
     "text": [
      "Train on 48000 samples, validate on 12000 samples\n",
      "Epoch 1/25\n",
      "48000/48000 [==============================] - 3s 60us/step - loss: 13.0885 - acc: 0.1873 - val_loss: 13.0347 - val_acc: 0.1912\n",
      "Epoch 2/25\n",
      "48000/48000 [==============================] - 3s 59us/step - loss: 12.2263 - acc: 0.2409 - val_loss: 11.5247 - val_acc: 0.2847\n",
      "Epoch 3/25\n",
      "48000/48000 [==============================] - 3s 62us/step - loss: 11.2496 - acc: 0.3013 - val_loss: 10.9479 - val_acc: 0.3192\n",
      "Epoch 4/25\n",
      "48000/48000 [==============================] - 3s 63us/step - loss: 9.3041 - acc: 0.4213 - val_loss: 8.9006 - val_acc: 0.4462\n",
      "Epoch 5/25\n",
      "48000/48000 [==============================] - 3s 62us/step - loss: 8.7795 - acc: 0.4542 - val_loss: 8.6187 - val_acc: 0.4645\n",
      "Epoch 6/25\n",
      "48000/48000 [==============================] - 3s 66us/step - loss: 8.7127 - acc: 0.4586 - val_loss: 8.6127 - val_acc: 0.4647\n",
      "Epoch 7/25\n",
      "48000/48000 [==============================] - 3s 68us/step - loss: 8.6495 - acc: 0.4627 - val_loss: 8.5941 - val_acc: 0.4663\n",
      "Epoch 8/25\n",
      "48000/48000 [==============================] - 3s 65us/step - loss: 8.6283 - acc: 0.4642 - val_loss: 8.6947 - val_acc: 0.4598\n",
      "Epoch 9/25\n",
      "48000/48000 [==============================] - 3s 68us/step - loss: 7.6016 - acc: 0.5265 - val_loss: 7.2545 - val_acc: 0.5488\n",
      "Epoch 10/25\n",
      "48000/48000 [==============================] - 3s 65us/step - loss: 7.2542 - acc: 0.5487 - val_loss: 7.1690 - val_acc: 0.5539\n",
      "Epoch 11/25\n",
      "48000/48000 [==============================] - 3s 66us/step - loss: 7.2181 - acc: 0.5510 - val_loss: 7.5577 - val_acc: 0.5297\n",
      "Epoch 12/25\n",
      "48000/48000 [==============================] - 3s 67us/step - loss: 7.1779 - acc: 0.5538 - val_loss: 7.1739 - val_acc: 0.5541\n",
      "Epoch 13/25\n",
      "48000/48000 [==============================] - 3s 66us/step - loss: 7.1246 - acc: 0.5567 - val_loss: 7.0497 - val_acc: 0.5617\n",
      "Epoch 14/25\n",
      "48000/48000 [==============================] - 3s 65us/step - loss: 7.1201 - acc: 0.5573 - val_loss: 7.1219 - val_acc: 0.5570\n",
      "Epoch 15/25\n",
      "48000/48000 [==============================] - 3s 67us/step - loss: 7.1050 - acc: 0.5583 - val_loss: 7.0438 - val_acc: 0.5618\n",
      "Epoch 16/25\n",
      "48000/48000 [==============================] - 3s 67us/step - loss: 7.0250 - acc: 0.5635 - val_loss: 7.0247 - val_acc: 0.5637\n",
      "Epoch 17/25\n",
      "48000/48000 [==============================] - 3s 66us/step - loss: 7.0743 - acc: 0.5605 - val_loss: 7.0694 - val_acc: 0.5607\n",
      "Epoch 18/25\n",
      "48000/48000 [==============================] - 3s 66us/step - loss: 7.0553 - acc: 0.5615 - val_loss: 6.9951 - val_acc: 0.5653\n",
      "Epoch 19/25\n",
      "48000/48000 [==============================] - 3s 67us/step - loss: 7.0340 - acc: 0.5630 - val_loss: 7.0139 - val_acc: 0.5645\n",
      "Epoch 20/25\n",
      "48000/48000 [==============================] - 3s 67us/step - loss: 7.0067 - acc: 0.5645 - val_loss: 7.0305 - val_acc: 0.5633\n",
      "Epoch 21/25\n",
      "48000/48000 [==============================] - 3s 67us/step - loss: 7.0256 - acc: 0.5635 - val_loss: 7.0603 - val_acc: 0.5616\n",
      "Epoch 22/25\n",
      "48000/48000 [==============================] - 3s 66us/step - loss: 7.0289 - acc: 0.5633 - val_loss: 7.0731 - val_acc: 0.5603\n",
      "Epoch 23/25\n",
      "48000/48000 [==============================] - 3s 67us/step - loss: 6.9826 - acc: 0.5663 - val_loss: 7.0131 - val_acc: 0.5645\n",
      "Epoch 24/25\n",
      "48000/48000 [==============================] - 3s 67us/step - loss: 6.9878 - acc: 0.5657 - val_loss: 6.9901 - val_acc: 0.5661\n",
      "Epoch 25/25\n",
      "48000/48000 [==============================] - 3s 68us/step - loss: 6.5265 - acc: 0.5940 - val_loss: 5.6167 - val_acc: 0.6499\n"
     ]
    }
   ],
   "source": [
    "model2 = models.Sequential()\n",
    "model2.add(layers.Dense(400, activation='relu', input_shape=(784,)))\n",
    "model2.add(layers.Dense(10, activation='softmax'))\n",
    "\n",
    "# compile the model\n",
    "model2.compile(optimizer='rmsprop',\n",
    "              loss='categorical_crossentropy',\n",
    "              metrics=['accuracy'])\n",
    "\n",
    "# Now I will fit the model:\n",
    "eps = 25\n",
    "history = model2.fit(x_train_part,\n",
    "                    y_train_part,\n",
    "                    batch_size=1024,\n",
    "                    epochs=eps,\n",
    "                    validation_data=(x_train_val, y_train_val))"
   ]
  },
  {
   "cell_type": "markdown",
   "metadata": {},
   "source": [
    "I will now plot the Training and Validation loss results from the Neural Network:"
   ]
  },
  {
   "cell_type": "code",
   "execution_count": 12,
   "metadata": {},
   "outputs": [
    {
     "data": {
      "image/png": "[encoded data removed]",
      "text/plain": [
       "<Figure size 432x288 with 1 Axes>"
      ]
     },
     "metadata": {
      "needs_background": "light"
     },
     "output_type": "display_data"
    }
   ],
   "source": [
    "# plot the learning parameters\n",
    "import matplotlib.pyplot as plt\n",
    "\n",
    "loss_values = history.history['loss']\n",
    "val_loss_values = history.history['val_loss']\n",
    "\n",
    "epochs = range(1, eps + 1)\n",
    "\n",
    "plt.plot(epochs, loss_values, 'g', label='Training Loss')\n",
    "plt.plot(epochs, val_loss_values, 'b', label='Validation Loss')\n",
    "plt.title('Training and Validation Loss')\n",
    "plt.xlabel('Epochs')\n",
    "plt.ylabel('Loss')\n",
    "plt.legend()\n",
    "\n",
    "plt.show()"
   ]
  },
  {
   "cell_type": "markdown",
   "metadata": {},
   "source": [
    "Here, I plot the Training Accuracy and Validation Accuracy results from the Neural Network:"
   ]
  },
  {
   "cell_type": "code",
   "execution_count": 13,
   "metadata": {},
   "outputs": [
    {
     "data": {
      "image/png": "[encoded data removed]",
      "text/plain": [
       "<Figure size 432x288 with 1 Axes>"
      ]
     },
     "metadata": {
      "needs_background": "light"
     },
     "output_type": "display_data"
    }
   ],
   "source": [
    "plt.clf() # clear the figure\n",
    "\n",
    "acc_values = history.history['acc']\n",
    "val_acc_values = history.history['val_acc']\n",
    "\n",
    "plt.plot(epochs, acc_values, 'g', label='Training Accuracy')\n",
    "plt.plot(epochs, val_acc_values, 'b', label='Validation Accuracy')\n",
    "plt.title('Training and Validation Accuracy')\n",
    "plt.xlabel('Epochs')\n",
    "plt.ylabel('Accuracy')\n",
    "plt.legend()\n",
    "\n",
    "plt.show()"
   ]
  },
  {
   "cell_type": "markdown",
   "metadata": {},
   "source": [
    "Next, we will display the confusion matrix:"
   ]
  },
  {
   "cell_type": "code",
   "execution_count": 15,
   "metadata": {},
   "outputs": [
    {
     "data": {
      "text/plain": [
       "array([[ 966,    0,    0,    0,    0,    4,    4,    3,    3,    0],\n",
       "       [   0,    0,   13,    0,    0,    5,   14,   81, 1022,    0],\n",
       "       [   7,    0,  912,    0,    6,    7,    7,   32,   61,    0],\n",
       "       [   2,    0,   39,    0,    0,  543,    1,   42,  383,    0],\n",
       "       [   2,    0,    0,    0,  935,    1,    7,   24,   13,    0],\n",
       "       [   3,    0,    0,    0,    0,  875,    8,    0,    6,    0],\n",
       "       [   6,    0,    1,    0,    8,   13,  921,    4,    5,    0],\n",
       "       [  12,    0,   16,    0,   11,    4,    1,  952,   32,    0],\n",
       "       [   3,    0,    0,    0,    2,    9,    3,   19,  938,    0],\n",
       "       [   7,    0,    0,    0,  364,   29,    0,  520,   89,    0]])"
      ]
     },
     "execution_count": 15,
     "metadata": {},
     "output_type": "execute_result"
    }
   ],
   "source": [
    "from sklearn.metrics import confusion_matrix, classification_report\n",
    "\n",
    "y_pred = model2.predict(x_test.reshape(10000, 28*28))\n",
    "y_pred_test = np.argmax(y_pred, axis=1)\n",
    "\n",
    "confusion_matrix(y_test, y_pred_test)"
   ]
  },
  {
   "cell_type": "markdown",
   "metadata": {},
   "source": [
    "Now, I will display the classification matrix:"
   ]
  },
  {
   "cell_type": "code",
   "execution_count": 17,
   "metadata": {},
   "outputs": [
    {
     "name": "stdout",
     "output_type": "stream",
     "text": [
      "              precision    recall  f1-score   support\n",
      "\n",
      "           0       0.96      0.99      0.97       980\n",
      "           1       0.00      0.00      0.00      1135\n",
      "           2       0.93      0.88      0.91      1032\n",
      "           3       0.00      0.00      0.00      1010\n",
      "           4       0.71      0.95      0.81       982\n",
      "           5       0.59      0.98      0.73       892\n",
      "           6       0.95      0.96      0.96       958\n",
      "           7       0.57      0.93      0.70      1028\n",
      "           8       0.37      0.96      0.53       974\n",
      "           9       0.00      0.00      0.00      1009\n",
      "\n",
      "   micro avg       0.65      0.65      0.65     10000\n",
      "   macro avg       0.51      0.67      0.56     10000\n",
      "weighted avg       0.50      0.65      0.55     10000\n",
      "\n"
     ]
    }
   ],
   "source": [
    "print(classification_report(y_test, y_pred_test))"
   ]
  },
  {
   "cell_type": "markdown",
   "metadata": {},
   "source": [
    "The next Neural Network model will contain 2 hidden layers, each with 200 nodes in it."
   ]
  },
  {
   "cell_type": "code",
   "execution_count": 18,
   "metadata": {},
   "outputs": [],
   "source": [
    "# 2 hidden layers\n",
    "model3 = models.Sequential()\n",
    "model3.add(layers.Dense(200, activation='relu', input_shape=(784,)))\n",
    "model3.add(layers.Dense(200, activation='relu'))\n",
    "model3.add(layers.Dense(10, activation='softmax'))\n",
    "\n",
    "#compile the model\n",
    "model3.compile(optimizer=\"rmsprop\",\n",
    "              loss='categorical_crossentropy',\n",
    "              metrics=['accuracy'])"
   ]
  },
  {
   "cell_type": "code",
   "execution_count": 19,
   "metadata": {},
   "outputs": [
    {
     "name": "stdout",
     "output_type": "stream",
     "text": [
      "Train on 48000 samples, validate on 12000 samples\n",
      "Epoch 1/25\n",
      "48000/48000 [==============================] - 2s 49us/step - loss: 9.6673 - acc: 0.3965 - val_loss: 8.3282 - val_acc: 0.4812\n",
      "Epoch 2/25\n",
      "48000/48000 [==============================] - 2s 47us/step - loss: 8.2046 - acc: 0.4884 - val_loss: 7.1178 - val_acc: 0.5542\n",
      "Epoch 3/25\n",
      "48000/48000 [==============================] - 3s 53us/step - loss: 6.1954 - acc: 0.6102 - val_loss: 4.1281 - val_acc: 0.7379\n",
      "Epoch 4/25\n",
      "48000/48000 [==============================] - 2s 42us/step - loss: 4.1076 - acc: 0.7396 - val_loss: 4.4921 - val_acc: 0.7139\n",
      "Epoch 5/25\n",
      "48000/48000 [==============================] - 2s 40us/step - loss: 3.9189 - acc: 0.7528 - val_loss: 3.7993 - val_acc: 0.7606\n",
      "Epoch 6/25\n",
      "48000/48000 [==============================] - 2s 46us/step - loss: 3.7829 - acc: 0.7616 - val_loss: 3.7314 - val_acc: 0.7651\n",
      "Epoch 7/25\n",
      "48000/48000 [==============================] - 2s 38us/step - loss: 3.7343 - acc: 0.7655 - val_loss: 3.8376 - val_acc: 0.7587\n",
      "Epoch 8/25\n",
      "48000/48000 [==============================] - 2s 38us/step - loss: 3.7254 - acc: 0.7664 - val_loss: 3.7275 - val_acc: 0.7658\n",
      "Epoch 9/25\n",
      "48000/48000 [==============================] - 2s 37us/step - loss: 3.6704 - acc: 0.7698 - val_loss: 3.7672 - val_acc: 0.7632\n",
      "Epoch 10/25\n",
      "48000/48000 [==============================] - 2s 40us/step - loss: 3.6323 - acc: 0.7723 - val_loss: 3.5968 - val_acc: 0.7747\n",
      "Epoch 11/25\n",
      "48000/48000 [==============================] - 2s 46us/step - loss: 3.6114 - acc: 0.7738 - val_loss: 3.6029 - val_acc: 0.7737\n",
      "Epoch 12/25\n",
      "48000/48000 [==============================] - 2s 46us/step - loss: 3.5965 - acc: 0.7749 - val_loss: 3.6256 - val_acc: 0.7727\n",
      "Epoch 13/25\n",
      "48000/48000 [==============================] - 2s 41us/step - loss: 3.5706 - acc: 0.7765 - val_loss: 3.6614 - val_acc: 0.7706\n",
      "Epoch 14/25\n",
      "48000/48000 [==============================] - 2s 35us/step - loss: 3.5614 - acc: 0.7769 - val_loss: 3.6424 - val_acc: 0.7714\n",
      "Epoch 15/25\n",
      "48000/48000 [==============================] - 2s 35us/step - loss: 3.5660 - acc: 0.7772 - val_loss: 3.6007 - val_acc: 0.7749\n",
      "Epoch 16/25\n",
      "48000/48000 [==============================] - 2s 35us/step - loss: 3.5675 - acc: 0.7771 - val_loss: 3.6149 - val_acc: 0.7737\n",
      "Epoch 17/25\n",
      "48000/48000 [==============================] - 2s 35us/step - loss: 3.5335 - acc: 0.7794 - val_loss: 3.5651 - val_acc: 0.7768\n",
      "Epoch 18/25\n",
      "48000/48000 [==============================] - 2s 35us/step - loss: 3.5262 - acc: 0.7800 - val_loss: 3.6204 - val_acc: 0.7738\n",
      "Epoch 19/25\n",
      "48000/48000 [==============================] - 2s 36us/step - loss: 3.5330 - acc: 0.7793 - val_loss: 3.5604 - val_acc: 0.7775\n",
      "Epoch 20/25\n",
      "48000/48000 [==============================] - 2s 36us/step - loss: 3.4841 - acc: 0.7825 - val_loss: 3.5929 - val_acc: 0.7755\n",
      "Epoch 21/25\n",
      "48000/48000 [==============================] - 2s 36us/step - loss: 3.4852 - acc: 0.7824 - val_loss: 3.6781 - val_acc: 0.7688\n",
      "Epoch 22/25\n",
      "48000/48000 [==============================] - 2s 35us/step - loss: 3.4766 - acc: 0.7830 - val_loss: 3.5721 - val_acc: 0.7766\n",
      "Epoch 23/25\n",
      "48000/48000 [==============================] - 2s 36us/step - loss: 3.4886 - acc: 0.7826 - val_loss: 3.6473 - val_acc: 0.7723\n",
      "Epoch 24/25\n",
      "48000/48000 [==============================] - 2s 35us/step - loss: 3.4818 - acc: 0.7829 - val_loss: 3.5493 - val_acc: 0.7784\n",
      "Epoch 25/25\n",
      "48000/48000 [==============================] - 2s 36us/step - loss: 3.4904 - acc: 0.7825 - val_loss: 3.5800 - val_acc: 0.7766\n"
     ]
    }
   ],
   "source": [
    "# Fitting the model:\n",
    "eps = 25\n",
    "history = model3.fit(x_train_part,\n",
    "                    y_train_part,\n",
    "                    batch_size=1024,\n",
    "                    epochs=eps,\n",
    "                    validation_data=(x_train_val, y_train_val))"
   ]
  },
  {
   "cell_type": "code",
   "execution_count": 20,
   "metadata": {},
   "outputs": [
    {
     "data": {
      "image/png": "[encoded data removed]",
      "text/plain": [
       "<Figure size 432x288 with 1 Axes>"
      ]
     },
     "metadata": {
      "needs_background": "light"
     },
     "output_type": "display_data"
    }
   ],
   "source": [
    "# plot the learning parameters\n",
    "import matplotlib.pyplot as plt\n",
    "\n",
    "loss_values = history.history['loss']\n",
    "val_loss_values = history.history['val_loss']\n",
    "\n",
    "epochs = range(1, eps + 1)\n",
    "\n",
    "plt.plot(epochs, loss_values, 'g', label='Training Loss')\n",
    "plt.plot(epochs, val_loss_values, 'b', label='Validation Loss')\n",
    "plt.title('Training and Validation Loss')\n",
    "plt.xlabel('Epochs')\n",
    "plt.ylabel('Loss')\n",
    "plt.legend()\n",
    "\n",
    "plt.show()"
   ]
  },
  {
   "cell_type": "code",
   "execution_count": 21,
   "metadata": {},
   "outputs": [
    {
     "data": {
      "image/png": "[encoded data removed]",
      "text/plain": [
       "<Figure size 432x288 with 1 Axes>"
      ]
     },
     "metadata": {
      "needs_background": "light"
     },
     "output_type": "display_data"
    }
   ],
   "source": [
    "plt.clf()\n",
    "\n",
    "acc_values = history.history['acc']\n",
    "val_acc_values = history.history['val_acc']\n",
    "\n",
    "plt.plot(epochs, acc_values, 'g', label='Training Accuracy')\n",
    "plt.plot(epochs, val_acc_values, 'b', label='Validation Accuracy')\n",
    "plt.title('Training and Validation Accuracy')\n",
    "plt.xlabel('Epochs')\n",
    "plt.ylabel('Accuracy')\n",
    "plt.legend()\n",
    "\n",
    "plt.show()"
   ]
  },
  {
   "cell_type": "code",
   "execution_count": 22,
   "metadata": {},
   "outputs": [
    {
     "data": {
      "text/plain": [
       "array([[ 932,    0,    4,    0,    0,    2,   37,    1,    4,    0],\n",
       "       [   0, 1124,    3,    0,    0,    0,    4,    3,    1,    0],\n",
       "       [   3,    3, 1000,    3,    0,    0,    8,   13,    2,    0],\n",
       "       [   0,    4,   10,  970,    0,    5,    3,   11,    7,    0],\n",
       "       [  10,    6,   35,   12,    0,    8,  127,  578,  206,    0],\n",
       "       [   5,    2,    1,   16,    0,  834,   27,    2,    5,    0],\n",
       "       [   3,    3,    0,    0,    0,    1,  947,    1,    3,    0],\n",
       "       [   2,    6,    8,    2,    0,    1,    0, 1007,    2,    0],\n",
       "       [   1,    4,    5,    5,    0,    1,    5,   20,  933,    0],\n",
       "       [   5,   13,   12,   65,    0,   17,   16,  778,  103,    0]])"
      ]
     },
     "execution_count": 22,
     "metadata": {},
     "output_type": "execute_result"
    }
   ],
   "source": [
    "# Confusion Matrix\n",
    "y_pred = model3.predict(x_test.reshape(10000, 28*28))\n",
    "y_pred_test = np.argmax(y_pred, axis=1)\n",
    "\n",
    "confusion_matrix(y_test, y_pred_test)"
   ]
  },
  {
   "cell_type": "code",
   "execution_count": 23,
   "metadata": {},
   "outputs": [
    {
     "name": "stdout",
     "output_type": "stream",
     "text": [
      "              precision    recall  f1-score   support\n",
      "\n",
      "           0       0.97      0.95      0.96       980\n",
      "           1       0.96      0.99      0.98      1135\n",
      "           2       0.93      0.97      0.95      1032\n",
      "           3       0.90      0.96      0.93      1010\n",
      "           4       0.00      0.00      0.00       982\n",
      "           5       0.96      0.93      0.95       892\n",
      "           6       0.81      0.99      0.89       958\n",
      "           7       0.42      0.98      0.59      1028\n",
      "           8       0.74      0.96      0.83       974\n",
      "           9       0.00      0.00      0.00      1009\n",
      "\n",
      "   micro avg       0.77      0.77      0.77     10000\n",
      "   macro avg       0.67      0.77      0.71     10000\n",
      "weighted avg       0.67      0.77      0.71     10000\n",
      "\n"
     ]
    }
   ],
   "source": [
    "print(classification_report(y_test, y_pred_test))"
   ]
  },
  {
   "cell_type": "markdown",
   "metadata": {},
   "source": [
    "The next Neural Network model will contain 2 hidden layers. The first hidden layer will have 200 nodes in it and the 2nd hidden layer will have 100 nodes in it."
   ]
  },
  {
   "cell_type": "code",
   "execution_count": 24,
   "metadata": {},
   "outputs": [
    {
     "name": "stdout",
     "output_type": "stream",
     "text": [
      "Train on 48000 samples, validate on 12000 samples\n",
      "Epoch 1/25\n",
      "48000/48000 [==============================] - 2s 41us/step - loss: 10.9420 - acc: 0.3157 - val_loss: 7.4536 - val_acc: 0.5312\n",
      "Epoch 2/25\n",
      "48000/48000 [==============================] - 2s 38us/step - loss: 7.2828 - acc: 0.5439 - val_loss: 7.2145 - val_acc: 0.5482\n",
      "Epoch 3/25\n",
      "48000/48000 [==============================] - 2s 39us/step - loss: 7.1293 - acc: 0.5543 - val_loss: 7.0597 - val_acc: 0.5589\n",
      "Epoch 4/25\n",
      "48000/48000 [==============================] - 2s 39us/step - loss: 7.0338 - acc: 0.5606 - val_loss: 6.9794 - val_acc: 0.5651\n",
      "Epoch 5/25\n",
      "48000/48000 [==============================] - 2s 40us/step - loss: 6.9679 - acc: 0.5657 - val_loss: 6.9576 - val_acc: 0.5662\n",
      "Epoch 6/25\n",
      "48000/48000 [==============================] - 2s 38us/step - loss: 6.9460 - acc: 0.5673 - val_loss: 6.9275 - val_acc: 0.5684\n",
      "Epoch 7/25\n",
      "48000/48000 [==============================] - 2s 42us/step - loss: 6.9388 - acc: 0.5678 - val_loss: 6.9161 - val_acc: 0.5689\n",
      "Epoch 8/25\n",
      "48000/48000 [==============================] - 2s 42us/step - loss: 6.8872 - acc: 0.5712 - val_loss: 6.8846 - val_acc: 0.5718\n",
      "Epoch 9/25\n",
      "48000/48000 [==============================] - 2s 43us/step - loss: 6.8978 - acc: 0.5707 - val_loss: 7.0243 - val_acc: 0.5614\n",
      "Epoch 10/25\n",
      "48000/48000 [==============================] - 2s 43us/step - loss: 6.8896 - acc: 0.5711 - val_loss: 6.8796 - val_acc: 0.5718\n",
      "Epoch 11/25\n",
      "48000/48000 [==============================] - 2s 43us/step - loss: 6.8880 - acc: 0.5714 - val_loss: 6.8684 - val_acc: 0.5725\n",
      "Epoch 12/25\n",
      "48000/48000 [==============================] - 2s 42us/step - loss: 6.8504 - acc: 0.5737 - val_loss: 6.8483 - val_acc: 0.5743\n",
      "Epoch 13/25\n",
      "48000/48000 [==============================] - 2s 42us/step - loss: 6.8499 - acc: 0.5740 - val_loss: 6.8758 - val_acc: 0.5723\n",
      "Epoch 14/25\n",
      "48000/48000 [==============================] - 2s 42us/step - loss: 6.8604 - acc: 0.5733 - val_loss: 6.8742 - val_acc: 0.5722\n",
      "Epoch 15/25\n",
      "48000/48000 [==============================] - 2s 45us/step - loss: 6.8699 - acc: 0.5728 - val_loss: 6.8791 - val_acc: 0.5725\n",
      "Epoch 16/25\n",
      "48000/48000 [==============================] - 3s 55us/step - loss: 6.8270 - acc: 0.5756 - val_loss: 6.8923 - val_acc: 0.5716\n",
      "Epoch 17/25\n",
      "48000/48000 [==============================] - 2s 50us/step - loss: 6.8503 - acc: 0.5742 - val_loss: 7.0495 - val_acc: 0.5609\n",
      "Epoch 18/25\n",
      "48000/48000 [==============================] - 2s 51us/step - loss: 6.8310 - acc: 0.5753 - val_loss: 6.8389 - val_acc: 0.5749\n",
      "Epoch 19/25\n",
      "48000/48000 [==============================] - 2s 49us/step - loss: 6.8142 - acc: 0.5765 - val_loss: 6.8614 - val_acc: 0.5734\n",
      "Epoch 20/25\n",
      "48000/48000 [==============================] - 2s 42us/step - loss: 6.8159 - acc: 0.5766 - val_loss: 6.8735 - val_acc: 0.5727\n",
      "Epoch 21/25\n",
      "48000/48000 [==============================] - 2s 44us/step - loss: 6.8257 - acc: 0.5759 - val_loss: 6.8776 - val_acc: 0.5723\n",
      "Epoch 22/25\n",
      "48000/48000 [==============================] - 2s 44us/step - loss: 6.0653 - acc: 0.6221 - val_loss: 5.4744 - val_acc: 0.6583\n",
      "Epoch 23/25\n",
      "48000/48000 [==============================] - 2s 45us/step - loss: 5.3929 - acc: 0.6640 - val_loss: 5.4353 - val_acc: 0.6612\n",
      "Epoch 24/25\n",
      "48000/48000 [==============================] - 2s 47us/step - loss: 5.3717 - acc: 0.6651 - val_loss: 5.3550 - val_acc: 0.6666\n",
      "Epoch 25/25\n",
      "48000/48000 [==============================] - 2s 47us/step - loss: 5.3373 - acc: 0.6674 - val_loss: 5.3729 - val_acc: 0.6648\n"
     ]
    }
   ],
   "source": [
    "# 2 hidden layers\n",
    "model4 = models.Sequential()\n",
    "model4.add(layers.Dense(200, activation='relu', input_shape=(784,)))\n",
    "model4.add(layers.Dense(100, activation='relu'))\n",
    "model4.add(layers.Dense(10, activation='softmax'))\n",
    "\n",
    "#compile the model\n",
    "model4.compile(optimizer=\"rmsprop\",\n",
    "              loss='categorical_crossentropy',\n",
    "              metrics=['accuracy'])\n",
    "\n",
    "# Fitting the model:\n",
    "eps = 25\n",
    "history = model4.fit(x_train_part,\n",
    "                    y_train_part,\n",
    "                    batch_size=1024,\n",
    "                    epochs=eps,\n",
    "                    validation_data=(x_train_val, y_train_val))"
   ]
  },
  {
   "cell_type": "code",
   "execution_count": 25,
   "metadata": {},
   "outputs": [
    {
     "data": {
      "image/png": "[encoded data removed]",
      "text/plain": [
       "<Figure size 432x288 with 1 Axes>"
      ]
     },
     "metadata": {
      "needs_background": "light"
     },
     "output_type": "display_data"
    }
   ],
   "source": [
    "# plot the learning parameters\n",
    "import matplotlib.pyplot as plt\n",
    "\n",
    "loss_values = history.history['loss']\n",
    "val_loss_values = history.history['val_loss']\n",
    "\n",
    "epochs = range(1, eps + 1)\n",
    "\n",
    "plt.plot(epochs, loss_values, 'g', label='Training Loss')\n",
    "plt.plot(epochs, val_loss_values, 'b', label='Validation Loss')\n",
    "plt.title('Training and Validation Loss')\n",
    "plt.xlabel('Epochs')\n",
    "plt.ylabel('Loss')\n",
    "plt.legend()\n",
    "\n",
    "plt.show()"
   ]
  },
  {
   "cell_type": "code",
   "execution_count": null,
   "metadata": {},
   "outputs": [],
   "source": [
    "plt.clf()\n",
    "\n",
    "acc_values = history.history['acc']\n",
    "val_acc_values = history.history['val_acc']\n",
    "\n",
    "plt.plot(epochs, acc_values, 'g', label='Training Accuracy')\n",
    "plt.plot(epochs, val_acc_values, 'b', label='Validation Accuracy')\n",
    "plt.title('Training and Validation Accuracy')\n",
    "plt.xlabel('Epochs')\n",
    "plt.ylabel('Accuracy')\n",
    "plt.legend()\n",
    "\n",
    "plt.show()"
   ]
  },
  {
   "cell_type": "code",
   "execution_count": null,
   "metadata": {},
   "outputs": [],
   "source": [
    "# Confusion Matrix\n",
    "y_pred = model4.predict(x_test.reshape(10000, 28*28))\n",
    "y_pred_test = np.argmax(y_pred, axis=1)\n",
    "\n",
    "confusion_matrix(y_test, y_pred_test)"
   ]
  },
  {
   "cell_type": "code",
   "execution_count": null,
   "metadata": {},
   "outputs": [],
   "source": [
    "print(classification_report(y_test, y_pred_test))"
   ]
  },
  {
   "cell_type": "markdown",
   "metadata": {},
   "source": [
    "1. Which model gives the best accuracy? Which the best overall F1 score?\n",
    "\n",
    "2. Which model gives the worst accuracy? Which the worst overall F1 score?\n",
    "\n",
    "3. What is the shape of the training set? How many nodes are in the input layer of the network?\n",
    "\n",
    "4. Why do you think the best/worst networks are that way?\n",
    "\n",
    "5. Experiment and try to create a better performing network. Explain what you tried and document the results."
   ]
  }
 ],
 "metadata": {
  "kernelspec": {
   "display_name": "Python 3",
   "language": "python",
   "name": "python3"
  },
  "language_info": {
   "codemirror_mode": {
    "name": "ipython",
    "version": 3
   },
   "file_extension": ".py",
   "mimetype": "text/x-python",
   "name": "python",
   "nbconvert_exporter": "python",
   "pygments_lexer": "ipython3",
   "version": "3.6.7"
  }
 },
 "nbformat": 4,
 "nbformat_minor": 2
}
