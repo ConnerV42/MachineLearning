{
 "cells": [
  {
   "cell_type": "markdown",
   "metadata": {},
   "source": [
    "Predicting Hand-Written Digits\n",
    "\n",
    "In this Jupyter Notebook, we will be using numpy, keras, and scikit-learn to predict which digit is contained in pictures of hand-written digits.\n",
    "\n",
    "There will be four neural networks defined in this notebook. The former two will have a single hidden layer each, and the ladder two will have two hidden layers each.\n",
    "\n",
    "First: We will create a Neural Network model with 100 nodes contained in its lone hidden layer..."
   ]
  },
  {
   "cell_type": "code",
   "execution_count": 1,
   "metadata": {},
   "outputs": [
    {
     "name": "stderr",
     "output_type": "stream",
     "text": [
      "Using TensorFlow backend.\n"
     ]
    },
    {
     "name": "stdout",
     "output_type": "stream",
     "text": [
      "(60000, 28, 28)\n",
      "(60000,)\n",
      "(10000, 28, 28)\n",
      "(10000,)\n",
      "label:  6\n"
     ]
    },
    {
     "data": {
      "text/plain": [
       "<Figure size 640x480 with 1 Axes>"
      ]
     },
     "metadata": {},
     "output_type": "display_data"
    }
   ],
   "source": [
    "## importing the mnist dataset, which contains 60,000 handwritten digits between 0 - 9\n",
    "import numpy as np\n",
    "np.random.seed(42) # for reproducibility\n",
    "from keras.datasets import mnist\n",
    "from keras.utils import to_categorical\n",
    "import pylab as plt\n",
    "import matplotlib.cm as cm\n",
    "\n",
    "(x_train, y_train), (x_test, y_test) = mnist.load_data()\n",
    "\n",
    "print(x_train.shape)\n",
    "print(y_train.shape)\n",
    "print(x_test.shape)\n",
    "print(y_test.shape)\n",
    "\n",
    "# The following code grabs one example photo of a handwritten digit in the mnist dataset...\n",
    "i = np.where(y_train==6)[0][0]\n",
    "print(\"label: \", y_train[i])\n",
    "sample = x_train[i, ...]\n",
    "sample.shape\n",
    "plt.imshow(sample, cmap=cm.gray)\n",
    "plt.show()"
   ]
  },
  {
   "cell_type": "code",
   "execution_count": 2,
   "metadata": {},
   "outputs": [
    {
     "name": "stdout",
     "output_type": "stream",
     "text": [
      "(60000, 784)\n"
     ]
    }
   ],
   "source": [
    "# The data needs to be in a flat array for each sample, so we will reshape from 28 * 28 to 784\n",
    "x_train = x_train.reshape(60000, 28*28)\n",
    "print(x_train.shape)\n",
    "\n",
    "# We will one-hot encode the labels\n",
    "y_train = to_categorical(y_train)"
   ]
  },
  {
   "cell_type": "code",
   "execution_count": 3,
   "metadata": {},
   "outputs": [
    {
     "name": "stdout",
     "output_type": "stream",
     "text": [
      "(60000, 10)\n",
      "label:  [0. 0. 0. 0. 0. 0. 1. 0. 0. 0.]\n"
     ]
    }
   ],
   "source": [
    "print(y_train.shape)\n",
    "print(\"label: \", y_train[i, :])"
   ]
  },
  {
   "cell_type": "code",
   "execution_count": 4,
   "metadata": {},
   "outputs": [],
   "source": [
    "# Okay, now let's get a cross-validation set from the training data.\n",
    "from sklearn.model_selection import train_test_split\n",
    "x_train_part, x_train_val, y_train_part, y_train_val = \\\n",
    "    train_test_split(x_train, y_train, test_size=0.2, random_state=42, stratify=np.argmax(y_train, axis=1\n",
    "))"
   ]
  },
  {
   "cell_type": "markdown",
   "metadata": {},
   "source": [
    "Now, I will import all the needed parts from the keras library. The models.Sequential() call will initialize an empty model for us to use to build our Neural Network. On the first add() function call, the first parameter specifies the amount of nodes that will be in the hidden layer. Also, the input_shape=(784,) parameter specfication inside of the first add function call is also important, because it is where the input data set size is set for our Neural Network model. This NN will only have a single hidden layer, so the second add() function call is specifying the output data set size. Our network will output a 1d array of size 10, and the predicted handwritten digit will be a 1, while all the other array values will be a zero."
   ]
  },
  {
   "cell_type": "code",
   "execution_count": 5,
   "metadata": {},
   "outputs": [
    {
     "name": "stdout",
     "output_type": "stream",
     "text": [
      "WARNING:tensorflow:From /home/connerverret/test/lib/python3.6/site-packages/tensorflow/python/framework/op_def_library.py:263: colocate_with (from tensorflow.python.framework.ops) is deprecated and will be removed in a future version.\n",
      "Instructions for updating:\n",
      "Colocations handled automatically by placer.\n"
     ]
    }
   ],
   "source": [
    "from keras import models\n",
    "from keras import layers\n",
    "from keras import optimizers\n",
    "#from keras import initializers\n",
    "\n",
    "model1 = models.Sequential()\n",
    "model1.add(layers.Dense(100, activation='relu',\n",
    "                        #kernel_initializer=initializers.RandomUniform(minval=-0.05, maxval=0.05, seed=42),\n",
    "                        #bias_initializer='zeros',\n",
    "                        input_shape=(784,)))\n",
    "model1.add(layers.Dense(10, activation='softmax'))\n",
    "\n",
    "# compile the model\n",
    "model1.compile(optimizer='rmsprop',\n",
    "              loss='categorical_crossentropy',\n",
    "              metrics=['accuracy'])"
   ]
  },
  {
   "cell_type": "markdown",
   "metadata": {},
   "source": [
    "Now, I will fit the model. In the fit() function call, I specified the epochs parameter as 25. This means that the entire data set of 48000 photos will be iterated through 25 seperate times during the training process. Also, I set the batch size parameter to 1024. This means that for each epoch iteration, 1024 values repeatedly will be chosen randomly from the set of 48000 photos, until every photo has been chosen. This means that for each epoch, there will be around 46 batches, each with their own unique set of 1024 photos. By forcing the Neural Network to learn in chunks like this, we can make sure that we avoid memorization of data, and cut down on \"Overfitting.\"\n",
    "\n",
    "Overfitting is when Machine Learning models learn too well & memorize data. The reason we are using Epochs and Batches are to try to regularize our data."
   ]
  },
  {
   "cell_type": "code",
   "execution_count": 6,
   "metadata": {},
   "outputs": [
    {
     "name": "stdout",
     "output_type": "stream",
     "text": [
      "WARNING:tensorflow:From /home/connerverret/test/lib/python3.6/site-packages/tensorflow/python/ops/math_ops.py:3066: to_int32 (from tensorflow.python.ops.math_ops) is deprecated and will be removed in a future version.\n",
      "Instructions for updating:\n",
      "Use tf.cast instead.\n",
      "Train on 48000 samples, validate on 12000 samples\n",
      "Epoch 1/25\n",
      "48000/48000 [==============================] - 1s 26us/step - loss: 10.9470 - acc: 0.3165 - val_loss: 9.3914 - val_acc: 0.4120\n",
      "Epoch 2/25\n",
      "48000/48000 [==============================] - 1s 17us/step - loss: 9.1168 - acc: 0.4308 - val_loss: 8.9903 - val_acc: 0.4394\n",
      "Epoch 3/25\n",
      "48000/48000 [==============================] - 1s 19us/step - loss: 8.8895 - acc: 0.4455 - val_loss: 8.7753 - val_acc: 0.4536\n",
      "Epoch 4/25\n",
      "48000/48000 [==============================] - 1s 18us/step - loss: 8.7738 - acc: 0.4533 - val_loss: 8.7176 - val_acc: 0.4574\n",
      "Epoch 5/25\n",
      "48000/48000 [==============================] - 1s 17us/step - loss: 8.1461 - acc: 0.4913 - val_loss: 7.5128 - val_acc: 0.5296\n",
      "Epoch 6/25\n",
      "48000/48000 [==============================] - 1s 20us/step - loss: 7.3496 - acc: 0.5407 - val_loss: 7.3036 - val_acc: 0.5442\n",
      "Epoch 7/25\n",
      "48000/48000 [==============================] - 1s 17us/step - loss: 7.2032 - acc: 0.5503 - val_loss: 6.1361 - val_acc: 0.6138\n",
      "Epoch 8/25\n",
      "48000/48000 [==============================] - 1s 16us/step - loss: 5.8141 - acc: 0.6358 - val_loss: 5.6451 - val_acc: 0.6451\n",
      "Epoch 9/25\n",
      "48000/48000 [==============================] - 1s 18us/step - loss: 4.5615 - acc: 0.7125 - val_loss: 4.5950 - val_acc: 0.7106\n",
      "Epoch 10/25\n",
      "48000/48000 [==============================] - 1s 22us/step - loss: 4.2311 - acc: 0.7334 - val_loss: 4.2148 - val_acc: 0.7350\n",
      "Epoch 11/25\n",
      "48000/48000 [==============================] - 1s 21us/step - loss: 4.1466 - acc: 0.7394 - val_loss: 4.0894 - val_acc: 0.7436\n",
      "Epoch 12/25\n",
      "48000/48000 [==============================] - 1s 16us/step - loss: 4.1045 - acc: 0.7424 - val_loss: 4.3476 - val_acc: 0.7262\n",
      "Epoch 13/25\n",
      "48000/48000 [==============================] - 1s 22us/step - loss: 4.0186 - acc: 0.7479 - val_loss: 4.0696 - val_acc: 0.7444\n",
      "Epoch 14/25\n",
      "48000/48000 [==============================] - 1s 24us/step - loss: 3.9985 - acc: 0.7489 - val_loss: 4.0184 - val_acc: 0.7475\n",
      "Epoch 15/25\n",
      "48000/48000 [==============================] - 1s 25us/step - loss: 3.9872 - acc: 0.7498 - val_loss: 4.0084 - val_acc: 0.7484\n",
      "Epoch 16/25\n",
      "48000/48000 [==============================] - 1s 21us/step - loss: 3.9439 - acc: 0.7529 - val_loss: 3.9532 - val_acc: 0.7525\n",
      "Epoch 17/25\n",
      "48000/48000 [==============================] - 1s 23us/step - loss: 3.9071 - acc: 0.7555 - val_loss: 3.9720 - val_acc: 0.7505\n",
      "Epoch 18/25\n",
      "48000/48000 [==============================] - 1s 24us/step - loss: 3.9108 - acc: 0.7554 - val_loss: 3.9815 - val_acc: 0.7503\n",
      "Epoch 19/25\n",
      "48000/48000 [==============================] - 1s 17us/step - loss: 3.8983 - acc: 0.7557 - val_loss: 3.9496 - val_acc: 0.7529\n",
      "Epoch 20/25\n",
      "48000/48000 [==============================] - 1s 17us/step - loss: 3.8448 - acc: 0.7595 - val_loss: 3.9238 - val_acc: 0.7540\n",
      "Epoch 21/25\n",
      "48000/48000 [==============================] - 1s 16us/step - loss: 3.8732 - acc: 0.7578 - val_loss: 3.9909 - val_acc: 0.7500\n",
      "Epoch 22/25\n",
      "48000/48000 [==============================] - 1s 16us/step - loss: 3.8342 - acc: 0.7602 - val_loss: 3.9246 - val_acc: 0.7542\n",
      "Epoch 23/25\n",
      "48000/48000 [==============================] - 1s 16us/step - loss: 3.8301 - acc: 0.7605 - val_loss: 3.8826 - val_acc: 0.7574\n",
      "Epoch 24/25\n",
      "48000/48000 [==============================] - 1s 16us/step - loss: 3.8056 - acc: 0.7621 - val_loss: 3.9357 - val_acc: 0.7537\n",
      "Epoch 25/25\n",
      "48000/48000 [==============================] - 1s 16us/step - loss: 3.8171 - acc: 0.7613 - val_loss: 3.9261 - val_acc: 0.7541\n",
      "Training accuracy: 0.7612708334922791\n",
      "Validation accuracy: 0.7540833326975505\n"
     ]
    }
   ],
   "source": [
    "# Now fit the model:\n",
    "eps = 25\n",
    "history = model1.fit(x_train_part,\n",
    "                    y_train_part,\n",
    "                    batch_size=1024,\n",
    "                    epochs=eps,\n",
    "                    validation_data=(x_train_val, y_train_val))\n",
    "\n",
    "print(\"Training accuracy: {}\".format(history.history['acc'][-1]))\n",
    "print(\"Validation accuracy: {}\".format(history.history['val_acc'][-1]))"
   ]
  },
  {
   "cell_type": "markdown",
   "metadata": {},
   "source": [
    "I will now plot the Training and Validation loss results from the Neural Network:"
   ]
  },
  {
   "cell_type": "code",
   "execution_count": 7,
   "metadata": {},
   "outputs": [
    {
     "data": {
      "image/png": "[encoded data removed]",
      "text/plain": [
       "<Figure size 432x288 with 1 Axes>"
      ]
     },
     "metadata": {
      "needs_background": "light"
     },
     "output_type": "display_data"
    }
   ],
   "source": [
    "# plot the learning parameters\n",
    "import matplotlib.pyplot as plt\n",
    "\n",
    "loss_values = history.history['loss']\n",
    "val_loss_values = history.history['val_loss']\n",
    "\n",
    "epochs = range(1, eps + 1)\n",
    "\n",
    "plt.plot(epochs, loss_values, 'g', label='Training Loss')\n",
    "plt.plot(epochs, val_loss_values, 'b', label='Validation Loss')\n",
    "plt.title('Training and Validation Loss')\n",
    "plt.xlabel('Epochs')\n",
    "plt.ylabel('Loss')\n",
    "plt.legend()\n",
    "\n",
    "plt.show()"
   ]
  },
  {
   "cell_type": "markdown",
   "metadata": {},
   "source": [
    "Next, I will plot the Training Accuracy and the Validation Accuracy results from the Neural Network: "
   ]
  },
  {
   "cell_type": "code",
   "execution_count": 8,
   "metadata": {},
   "outputs": [
    {
     "data": {
      "image/png": "[encoded data removed]",
      "text/plain": [
       "<Figure size 432x288 with 1 Axes>"
      ]
     },
     "metadata": {
      "needs_background": "light"
     },
     "output_type": "display_data"
    }
   ],
   "source": [
    "plt.clf() # clear the figure\n",
    "\n",
    "acc_values = history.history['acc']\n",
    "val_acc_values = history.history['val_acc']\n",
    "\n",
    "plt.plot(epochs, acc_values, 'g', label='Training Accuracy')\n",
    "plt.plot(epochs, val_acc_values, 'b', label='Validation Accuracy')\n",
    "plt.title('Training and Validation Accuracy')\n",
    "plt.xlabel('Epochs')\n",
    "plt.ylabel('Accuracy')\n",
    "plt.legend()\n",
    "\n",
    "plt.show()"
   ]
  },
  {
   "cell_type": "code",
   "execution_count": 9,
   "metadata": {},
   "outputs": [
    {
     "data": {
      "text/plain": [
       "array([[ 971,    0,    0,    0,    2,    1,    1,    3,    2,    0],\n",
       "       [   0,    0,   13,    0,    5,   22,    3,  225,  864,    3],\n",
       "       [  12,    0,  981,    0,    5,    0,    1,   22,    9,    2],\n",
       "       [  14,    0,  246,    0,    4,  500,    0,   40,  139,   67],\n",
       "       [   1,    0,    2,    0,  941,    1,    7,    5,    7,   18],\n",
       "       [   7,    0,    3,    0,    3,  868,    5,    1,    4,    1],\n",
       "       [  22,    0,    6,    0,    3,   18,  896,    6,    7,    0],\n",
       "       [   0,    0,   10,    0,    2,    1,    0, 1004,    7,    4],\n",
       "       [   7,    0,    7,    0,    7,   15,    3,   16,  916,    3],\n",
       "       [   8,    0,    5,    0,   19,    9,    0,   43,    7,  918]])"
      ]
     },
     "execution_count": 9,
     "metadata": {},
     "output_type": "execute_result"
    }
   ],
   "source": [
    "# Time to view the resulting confusion matrix\n",
    "from sklearn.metrics import confusion_matrix, classification_report\n",
    "\n",
    "y_pred = model1.predict(x_test.reshape(10000, 28*28))\n",
    "y_pred_test = np.argmax(y_pred, axis=1)\n",
    "\n",
    "confusion_matrix(y_test, y_pred_test)"
   ]
  },
  {
   "cell_type": "code",
   "execution_count": 10,
   "metadata": {},
   "outputs": [
    {
     "name": "stdout",
     "output_type": "stream",
     "text": [
      "              precision    recall  f1-score   support\n",
      "\n",
      "           0       0.93      0.99      0.96       980\n",
      "           1       0.00      0.00      0.00      1135\n",
      "           2       0.77      0.95      0.85      1032\n",
      "           3       0.00      0.00      0.00      1010\n",
      "           4       0.95      0.96      0.95       982\n",
      "           5       0.60      0.97      0.75       892\n",
      "           6       0.98      0.94      0.96       958\n",
      "           7       0.74      0.98      0.84      1028\n",
      "           8       0.47      0.94      0.62       974\n",
      "           9       0.90      0.91      0.91      1009\n",
      "\n",
      "   micro avg       0.75      0.75      0.75     10000\n",
      "   macro avg       0.63      0.76      0.68     10000\n",
      "weighted avg       0.62      0.75      0.67     10000\n",
      "\n"
     ]
    },
    {
     "name": "stderr",
     "output_type": "stream",
     "text": [
      "/home/connerverret/test/lib/python3.6/site-packages/sklearn/metrics/classification.py:1143: UndefinedMetricWarning: Precision and F-score are ill-defined and being set to 0.0 in labels with no predicted samples.\n",
      "  'precision', 'predicted', average, warn_for)\n"
     ]
    }
   ],
   "source": [
    "print(classification_report(y_test, y_pred_test))"
   ]
  },
  {
   "cell_type": "markdown",
   "metadata": {},
   "source": [
    "Next, I will create a Neural Network model with 400 nodes in the hidden layer:"
   ]
  },
  {
   "cell_type": "code",
   "execution_count": 11,
   "metadata": {},
   "outputs": [
    {
     "name": "stdout",
     "output_type": "stream",
     "text": [
      "Train on 48000 samples, validate on 12000 samples\n",
      "Epoch 1/25\n",
      "48000/48000 [==============================] - 2s 44us/step - loss: 7.7855 - acc: 0.5131 - val_loss: 7.1094 - val_acc: 0.5567\n",
      "Epoch 2/25\n",
      "48000/48000 [==============================] - 2s 42us/step - loss: 5.9192 - acc: 0.6301 - val_loss: 5.6053 - val_acc: 0.6492\n",
      "Epoch 3/25\n",
      "48000/48000 [==============================] - 2s 41us/step - loss: 5.6262 - acc: 0.6484 - val_loss: 5.4784 - val_acc: 0.6583\n",
      "Epoch 4/25\n",
      "48000/48000 [==============================] - 2s 43us/step - loss: 5.5245 - acc: 0.6554 - val_loss: 5.4176 - val_acc: 0.6617\n",
      "Epoch 5/25\n",
      "48000/48000 [==============================] - 2s 43us/step - loss: 4.9878 - acc: 0.6879 - val_loss: 4.3415 - val_acc: 0.7277\n",
      "Epoch 6/25\n",
      "48000/48000 [==============================] - 2s 42us/step - loss: 4.1434 - acc: 0.7404 - val_loss: 3.9100 - val_acc: 0.7552\n",
      "Epoch 7/25\n",
      "48000/48000 [==============================] - 2s 42us/step - loss: 4.0286 - acc: 0.7480 - val_loss: 4.0175 - val_acc: 0.7484\n",
      "Epoch 8/25\n",
      "48000/48000 [==============================] - 2s 44us/step - loss: 3.9898 - acc: 0.7504 - val_loss: 3.9547 - val_acc: 0.7525\n",
      "Epoch 9/25\n",
      "48000/48000 [==============================] - 2s 43us/step - loss: 3.9379 - acc: 0.7536 - val_loss: 3.8811 - val_acc: 0.7568\n",
      "Epoch 10/25\n",
      "48000/48000 [==============================] - 2s 42us/step - loss: 3.8546 - acc: 0.7592 - val_loss: 3.8074 - val_acc: 0.7622\n",
      "Epoch 11/25\n",
      "48000/48000 [==============================] - 6s 124us/step - loss: 3.8123 - acc: 0.7618 - val_loss: 3.7812 - val_acc: 0.7637\n",
      "Epoch 12/25\n",
      "48000/48000 [==============================] - 6s 127us/step - loss: 3.7537 - acc: 0.7655 - val_loss: 3.8988 - val_acc: 0.7557\n",
      "Epoch 13/25\n",
      "48000/48000 [==============================] - 6s 127us/step - loss: 2.1719 - acc: 0.8617 - val_loss: 0.9797 - val_acc: 0.9356\n",
      "Epoch 14/25\n",
      "48000/48000 [==============================] - 6s 125us/step - loss: 0.9541 - acc: 0.9384 - val_loss: 0.8951 - val_acc: 0.9418\n",
      "Epoch 15/25\n",
      "48000/48000 [==============================] - 6s 125us/step - loss: 0.8487 - acc: 0.9448 - val_loss: 0.9005 - val_acc: 0.9419\n",
      "Epoch 16/25\n",
      "48000/48000 [==============================] - 6s 127us/step - loss: 0.7948 - acc: 0.9481 - val_loss: 0.9270 - val_acc: 0.9388\n",
      "Epoch 17/25\n",
      "48000/48000 [==============================] - 6s 130us/step - loss: 0.7244 - acc: 0.9529 - val_loss: 0.6915 - val_acc: 0.9548\n",
      "Epoch 18/25\n",
      "48000/48000 [==============================] - 6s 130us/step - loss: 0.6934 - acc: 0.9546 - val_loss: 0.7994 - val_acc: 0.9482\n",
      "Epoch 19/25\n",
      "48000/48000 [==============================] - 6s 132us/step - loss: 0.6452 - acc: 0.9577 - val_loss: 0.7187 - val_acc: 0.9528\n",
      "Epoch 20/25\n",
      "48000/48000 [==============================] - 6s 132us/step - loss: 0.6246 - acc: 0.9592 - val_loss: 0.7103 - val_acc: 0.9538\n",
      "Epoch 21/25\n",
      "48000/48000 [==============================] - 6s 134us/step - loss: 0.6407 - acc: 0.9582 - val_loss: 0.7047 - val_acc: 0.9542\n",
      "Epoch 22/25\n",
      "48000/48000 [==============================] - 7s 136us/step - loss: 0.6057 - acc: 0.9606 - val_loss: 0.6755 - val_acc: 0.9562\n",
      "Epoch 23/25\n",
      "48000/48000 [==============================] - 7s 136us/step - loss: 0.5949 - acc: 0.9613 - val_loss: 0.7022 - val_acc: 0.9536\n",
      "Epoch 24/25\n",
      "48000/48000 [==============================] - 7s 138us/step - loss: 0.5571 - acc: 0.9640 - val_loss: 0.7723 - val_acc: 0.9502\n",
      "Epoch 25/25\n",
      "48000/48000 [==============================] - 7s 137us/step - loss: 0.5297 - acc: 0.9656 - val_loss: 0.6465 - val_acc: 0.9580\n",
      "Training accuracy: 0.9656458338101704\n",
      "Validation accuracy: 0.9580000014305114\n"
     ]
    }
   ],
   "source": [
    "model2 = models.Sequential()\n",
    "model2.add(layers.Dense(400, activation='relu', input_shape=(784,)))\n",
    "model2.add(layers.Dense(10, activation='softmax'))\n",
    "\n",
    "# compile the model\n",
    "model2.compile(optimizer='rmsprop',\n",
    "              loss='categorical_crossentropy',\n",
    "              metrics=['accuracy'])\n",
    "\n",
    "# Now I will fit the model:\n",
    "eps = 25\n",
    "history = model2.fit(x_train_part,\n",
    "                    y_train_part,\n",
    "                    batch_size=1024,\n",
    "                    epochs=eps,\n",
    "                    validation_data=(x_train_val, y_train_val))\n",
    "\n",
    "print(\"Training accuracy: {}\".format(history.history['acc'][-1]))\n",
    "print(\"Validation accuracy: {}\".format(history.history['val_acc'][-1]))"
   ]
  },
  {
   "cell_type": "markdown",
   "metadata": {},
   "source": [
    "I will now plot the Training and Validation loss results from the Neural Network:"
   ]
  },
  {
   "cell_type": "code",
   "execution_count": 12,
   "metadata": {},
   "outputs": [
    {
     "data": {
      "image/png": "[encoded data removed]",
      "text/plain": [
       "<Figure size 432x288 with 1 Axes>"
      ]
     },
     "metadata": {
      "needs_background": "light"
     },
     "output_type": "display_data"
    }
   ],
   "source": [
    "# plot the learning parameters\n",
    "import matplotlib.pyplot as plt\n",
    "\n",
    "loss_values = history.history['loss']\n",
    "val_loss_values = history.history['val_loss']\n",
    "\n",
    "epochs = range(1, eps + 1)\n",
    "\n",
    "plt.plot(epochs, loss_values, 'g', label='Training Loss')\n",
    "plt.plot(epochs, val_loss_values, 'b', label='Validation Loss')\n",
    "plt.title('Training and Validation Loss')\n",
    "plt.xlabel('Epochs')\n",
    "plt.ylabel('Loss')\n",
    "plt.legend()\n",
    "\n",
    "plt.show()"
   ]
  },
  {
   "cell_type": "markdown",
   "metadata": {},
   "source": [
    "Here, I plot the Training Accuracy and Validation Accuracy results from the Neural Network:"
   ]
  },
  {
   "cell_type": "code",
   "execution_count": 13,
   "metadata": {},
   "outputs": [
    {
     "data": {
      "image/png": "[encoded data removed]",
      "text/plain": [
       "<Figure size 432x288 with 1 Axes>"
      ]
     },
     "metadata": {
      "needs_background": "light"
     },
     "output_type": "display_data"
    }
   ],
   "source": [
    "plt.clf() # clear the figure\n",
    "\n",
    "acc_values = history.history['acc']\n",
    "val_acc_values = history.history['val_acc']\n",
    "\n",
    "plt.plot(epochs, acc_values, 'g', label='Training Accuracy')\n",
    "plt.plot(epochs, val_acc_values, 'b', label='Validation Accuracy')\n",
    "plt.title('Training and Validation Accuracy')\n",
    "plt.xlabel('Epochs')\n",
    "plt.ylabel('Accuracy')\n",
    "plt.legend()\n",
    "\n",
    "plt.show()"
   ]
  },
  {
   "cell_type": "markdown",
   "metadata": {},
   "source": [
    "Next, we will display the confusion matrix:"
   ]
  },
  {
   "cell_type": "code",
   "execution_count": 14,
   "metadata": {},
   "outputs": [
    {
     "data": {
      "text/plain": [
       "array([[ 963,    1,    3,    1,    0,    2,    8,    1,    1,    0],\n",
       "       [   0, 1127,    2,    1,    0,    1,    3,    0,    1,    0],\n",
       "       [   5,    3,  992,    7,    2,    0,    3,    4,   16,    0],\n",
       "       [   0,    3,   11,  978,    0,    3,    1,    6,    4,    4],\n",
       "       [   1,    5,   12,    0,  925,    3,    5,    2,    2,   27],\n",
       "       [   6,    1,    2,   14,    2,  843,   14,    2,    7,    1],\n",
       "       [   8,    4,    2,    0,    5,    3,  931,    1,    4,    0],\n",
       "       [   0,   11,   18,    7,    1,    0,    0,  971,    1,   19],\n",
       "       [   3,    5,    9,   24,    6,   16,   12,    4,  890,    5],\n",
       "       [   8,   11,    2,   10,   18,    3,    1,    5,    3,  948]])"
      ]
     },
     "execution_count": 14,
     "metadata": {},
     "output_type": "execute_result"
    }
   ],
   "source": [
    "from sklearn.metrics import confusion_matrix, classification_report\n",
    "\n",
    "y_pred = model2.predict(x_test.reshape(10000, 28*28))\n",
    "y_pred_test = np.argmax(y_pred, axis=1)\n",
    "\n",
    "confusion_matrix(y_test, y_pred_test)"
   ]
  },
  {
   "cell_type": "markdown",
   "metadata": {},
   "source": [
    "Now, I will display the classification matrix:"
   ]
  },
  {
   "cell_type": "code",
   "execution_count": 15,
   "metadata": {},
   "outputs": [
    {
     "name": "stdout",
     "output_type": "stream",
     "text": [
      "              precision    recall  f1-score   support\n",
      "\n",
      "           0       0.97      0.98      0.98       980\n",
      "           1       0.96      0.99      0.98      1135\n",
      "           2       0.94      0.96      0.95      1032\n",
      "           3       0.94      0.97      0.95      1010\n",
      "           4       0.96      0.94      0.95       982\n",
      "           5       0.96      0.95      0.95       892\n",
      "           6       0.95      0.97      0.96       958\n",
      "           7       0.97      0.94      0.96      1028\n",
      "           8       0.96      0.91      0.94       974\n",
      "           9       0.94      0.94      0.94      1009\n",
      "\n",
      "   micro avg       0.96      0.96      0.96     10000\n",
      "   macro avg       0.96      0.96      0.96     10000\n",
      "weighted avg       0.96      0.96      0.96     10000\n",
      "\n"
     ]
    }
   ],
   "source": [
    "print(classification_report(y_test, y_pred_test))"
   ]
  },
  {
   "cell_type": "markdown",
   "metadata": {},
   "source": [
    "The next Neural Network model will contain 2 hidden layers, each with 200 nodes in it."
   ]
  },
  {
   "cell_type": "code",
   "execution_count": 16,
   "metadata": {},
   "outputs": [],
   "source": [
    "# 2 hidden layers\n",
    "model3 = models.Sequential()\n",
    "model3.add(layers.Dense(200, activation='relu', input_shape=(784,)))\n",
    "model3.add(layers.Dense(200, activation='relu'))\n",
    "model3.add(layers.Dense(10, activation='softmax'))\n",
    "\n",
    "#compile the model\n",
    "model3.compile(optimizer=\"rmsprop\",\n",
    "              loss='categorical_crossentropy',\n",
    "              metrics=['accuracy'])"
   ]
  },
  {
   "cell_type": "code",
   "execution_count": 17,
   "metadata": {},
   "outputs": [
    {
     "name": "stdout",
     "output_type": "stream",
     "text": [
      "Train on 48000 samples, validate on 12000 samples\n",
      "Epoch 1/25\n",
      "48000/48000 [==============================] - 6s 115us/step - loss: 5.4657 - acc: 0.6492 - val_loss: 3.4552 - val_acc: 0.7743\n",
      "Epoch 2/25\n",
      "48000/48000 [==============================] - 4s 93us/step - loss: 2.8649 - acc: 0.8138 - val_loss: 3.1973 - val_acc: 0.7923\n",
      "Epoch 3/25\n",
      "48000/48000 [==============================] - 2s 48us/step - loss: 2.5930 - acc: 0.8325 - val_loss: 2.5999 - val_acc: 0.8329\n",
      "Epoch 4/25\n",
      "48000/48000 [==============================] - 5s 94us/step - loss: 2.4072 - acc: 0.8449 - val_loss: 2.4310 - val_acc: 0.8453\n",
      "Epoch 5/25\n",
      "48000/48000 [==============================] - 5s 100us/step - loss: 2.2987 - acc: 0.8525 - val_loss: 2.3958 - val_acc: 0.8461\n",
      "Epoch 6/25\n",
      "48000/48000 [==============================] - 5s 94us/step - loss: 2.2529 - acc: 0.8563 - val_loss: 2.2256 - val_acc: 0.8572\n",
      "Epoch 7/25\n",
      "48000/48000 [==============================] - 4s 93us/step - loss: 2.1851 - acc: 0.8605 - val_loss: 2.1788 - val_acc: 0.8614\n",
      "Epoch 8/25\n",
      "48000/48000 [==============================] - 4s 93us/step - loss: 2.1493 - acc: 0.8633 - val_loss: 2.2276 - val_acc: 0.8580\n",
      "Epoch 9/25\n",
      "48000/48000 [==============================] - 5s 95us/step - loss: 2.1199 - acc: 0.8657 - val_loss: 2.1245 - val_acc: 0.8647\n",
      "Epoch 10/25\n",
      "48000/48000 [==============================] - 4s 81us/step - loss: 2.1033 - acc: 0.8663 - val_loss: 2.1853 - val_acc: 0.8609\n",
      "Epoch 11/25\n",
      "48000/48000 [==============================] - 2s 39us/step - loss: 2.0946 - acc: 0.8671 - val_loss: 2.1292 - val_acc: 0.8654\n",
      "Epoch 12/25\n",
      "48000/48000 [==============================] - 2s 39us/step - loss: 2.0378 - acc: 0.8710 - val_loss: 2.1349 - val_acc: 0.8644\n",
      "Epoch 13/25\n",
      "48000/48000 [==============================] - 2s 35us/step - loss: 2.0521 - acc: 0.8704 - val_loss: 2.1341 - val_acc: 0.8657\n",
      "Epoch 14/25\n",
      "48000/48000 [==============================] - 2s 32us/step - loss: 2.0280 - acc: 0.8715 - val_loss: 2.0753 - val_acc: 0.8690\n",
      "Epoch 15/25\n",
      "48000/48000 [==============================] - 2s 33us/step - loss: 2.0073 - acc: 0.8733 - val_loss: 2.0873 - val_acc: 0.8681\n",
      "Epoch 16/25\n",
      "48000/48000 [==============================] - 2s 32us/step - loss: 1.9705 - acc: 0.8755 - val_loss: 2.0549 - val_acc: 0.8701\n",
      "Epoch 17/25\n",
      "48000/48000 [==============================] - 2s 33us/step - loss: 1.9537 - acc: 0.8767 - val_loss: 2.0461 - val_acc: 0.8701\n",
      "Epoch 18/25\n",
      "48000/48000 [==============================] - 2s 32us/step - loss: 1.9619 - acc: 0.8761 - val_loss: 2.0433 - val_acc: 0.8712\n",
      "Epoch 19/25\n",
      "48000/48000 [==============================] - 2s 36us/step - loss: 1.9443 - acc: 0.8773 - val_loss: 2.0811 - val_acc: 0.8684\n",
      "Epoch 20/25\n",
      "48000/48000 [==============================] - 2s 36us/step - loss: 1.9633 - acc: 0.8765 - val_loss: 2.0986 - val_acc: 0.8672\n",
      "Epoch 21/25\n",
      "48000/48000 [==============================] - 2s 33us/step - loss: 1.9344 - acc: 0.8783 - val_loss: 2.0453 - val_acc: 0.8713\n",
      "Epoch 22/25\n",
      "48000/48000 [==============================] - 2s 32us/step - loss: 1.9438 - acc: 0.8776 - val_loss: 2.0439 - val_acc: 0.8712\n",
      "Epoch 23/25\n",
      "48000/48000 [==============================] - 2s 32us/step - loss: 1.9013 - acc: 0.8805 - val_loss: 2.1042 - val_acc: 0.8668\n",
      "Epoch 24/25\n",
      "48000/48000 [==============================] - 1s 31us/step - loss: 1.9084 - acc: 0.8802 - val_loss: 2.0805 - val_acc: 0.8680\n",
      "Epoch 25/25\n",
      "48000/48000 [==============================] - 2s 32us/step - loss: 1.9068 - acc: 0.8798 - val_loss: 2.0213 - val_acc: 0.8727\n",
      "Training accuracy: 0.8797916669845581\n",
      "Validation accuracy: 0.8726666649182637\n"
     ]
    }
   ],
   "source": [
    "# Fitting the model:\n",
    "eps = 25\n",
    "history = model3.fit(x_train_part,\n",
    "                    y_train_part,\n",
    "                    batch_size=1024,\n",
    "                    epochs=eps,\n",
    "                    validation_data=(x_train_val, y_train_val))\n",
    "\n",
    "print(\"Training accuracy: {}\".format(history.history['acc'][-1]))\n",
    "print(\"Validation accuracy: {}\".format(history.history['val_acc'][-1]))"
   ]
  },
  {
   "cell_type": "code",
   "execution_count": 18,
   "metadata": {},
   "outputs": [
    {
     "data": {
      "image/png": "[encoded data removed]",
      "text/plain": [
       "<Figure size 432x288 with 1 Axes>"
      ]
     },
     "metadata": {
      "needs_background": "light"
     },
     "output_type": "display_data"
    }
   ],
   "source": [
    "# plot the learning parameters\n",
    "import matplotlib.pyplot as plt\n",
    "\n",
    "loss_values = history.history['loss']\n",
    "val_loss_values = history.history['val_loss']\n",
    "\n",
    "epochs = range(1, eps + 1)\n",
    "\n",
    "plt.plot(epochs, loss_values, 'g', label='Training Loss')\n",
    "plt.plot(epochs, val_loss_values, 'b', label='Validation Loss')\n",
    "plt.title('Training and Validation Loss')\n",
    "plt.xlabel('Epochs')\n",
    "plt.ylabel('Loss')\n",
    "plt.legend()\n",
    "\n",
    "plt.show()"
   ]
  },
  {
   "cell_type": "code",
   "execution_count": 19,
   "metadata": {},
   "outputs": [
    {
     "data": {
      "image/png": "[encoded data removed]",
      "text/plain": [
       "<Figure size 432x288 with 1 Axes>"
      ]
     },
     "metadata": {
      "needs_background": "light"
     },
     "output_type": "display_data"
    }
   ],
   "source": [
    "plt.clf()\n",
    "\n",
    "acc_values = history.history['acc']\n",
    "val_acc_values = history.history['val_acc']\n",
    "\n",
    "plt.plot(epochs, acc_values, 'g', label='Training Accuracy')\n",
    "plt.plot(epochs, val_acc_values, 'b', label='Validation Accuracy')\n",
    "plt.title('Training and Validation Accuracy')\n",
    "plt.xlabel('Epochs')\n",
    "plt.ylabel('Accuracy')\n",
    "plt.legend()\n",
    "\n",
    "plt.show()"
   ]
  },
  {
   "cell_type": "code",
   "execution_count": 20,
   "metadata": {},
   "outputs": [
    {
     "data": {
      "text/plain": [
       "array([[ 963,    0,    0,    1,    0,    5,    4,    3,    3,    1],\n",
       "       [   0, 1121,    4,    2,    0,    2,    2,    2,    2,    0],\n",
       "       [   4,    1, 1004,    9,    0,    0,    6,    5,    3,    0],\n",
       "       [   0,    0,    7,  990,    0,    6,    0,    4,    3,    0],\n",
       "       [   2,   15,   23,    0,    0,   24,   68,   75,   25,  750],\n",
       "       [   4,    0,    1,   27,    0,  847,    8,    1,    2,    2],\n",
       "       [   8,    3,    0,    1,    0,    4,  936,    3,    2,    1],\n",
       "       [   1,    7,    9,    1,    0,    1,    0, 1004,    1,    4],\n",
       "       [   4,    1,    7,   26,    0,    6,    6,    5,  918,    1],\n",
       "       [   3,    6,    0,   18,    0,    4,    3,   23,    6,  946]])"
      ]
     },
     "execution_count": 20,
     "metadata": {},
     "output_type": "execute_result"
    }
   ],
   "source": [
    "# Confusion Matrix\n",
    "y_pred = model3.predict(x_test.reshape(10000, 28*28))\n",
    "y_pred_test = np.argmax(y_pred, axis=1)\n",
    "\n",
    "confusion_matrix(y_test, y_pred_test)"
   ]
  },
  {
   "cell_type": "code",
   "execution_count": 21,
   "metadata": {},
   "outputs": [
    {
     "name": "stdout",
     "output_type": "stream",
     "text": [
      "              precision    recall  f1-score   support\n",
      "\n",
      "           0       0.97      0.98      0.98       980\n",
      "           1       0.97      0.99      0.98      1135\n",
      "           2       0.95      0.97      0.96      1032\n",
      "           3       0.92      0.98      0.95      1010\n",
      "           4       0.00      0.00      0.00       982\n",
      "           5       0.94      0.95      0.95       892\n",
      "           6       0.91      0.98      0.94       958\n",
      "           7       0.89      0.98      0.93      1028\n",
      "           8       0.95      0.94      0.95       974\n",
      "           9       0.55      0.94      0.70      1009\n",
      "\n",
      "   micro avg       0.87      0.87      0.87     10000\n",
      "   macro avg       0.81      0.87      0.83     10000\n",
      "weighted avg       0.81      0.87      0.84     10000\n",
      "\n"
     ]
    }
   ],
   "source": [
    "print(classification_report(y_test, y_pred_test))"
   ]
  },
  {
   "cell_type": "markdown",
   "metadata": {},
   "source": [
    "The next Neural Network model will contain 2 hidden layers. The first hidden layer will have 200 nodes in it and the 2nd hidden layer will have 100 nodes in it."
   ]
  },
  {
   "cell_type": "code",
   "execution_count": 22,
   "metadata": {},
   "outputs": [
    {
     "name": "stdout",
     "output_type": "stream",
     "text": [
      "Train on 48000 samples, validate on 12000 samples\n",
      "Epoch 1/25\n",
      "48000/48000 [==============================] - 2s 33us/step - loss: 11.4886 - acc: 0.2853 - val_loss: 11.2435 - val_acc: 0.3013\n",
      "Epoch 2/25\n",
      "48000/48000 [==============================] - 1s 28us/step - loss: 10.3977 - acc: 0.3536 - val_loss: 9.7986 - val_acc: 0.3908\n",
      "Epoch 3/25\n",
      "48000/48000 [==============================] - 3s 69us/step - loss: 9.7753 - acc: 0.3925 - val_loss: 9.7610 - val_acc: 0.3935\n",
      "Epoch 4/25\n",
      "48000/48000 [==============================] - 4s 84us/step - loss: 9.7571 - acc: 0.3939 - val_loss: 9.7514 - val_acc: 0.3941\n",
      "Epoch 5/25\n",
      "48000/48000 [==============================] - 4s 84us/step - loss: 9.7207 - acc: 0.3965 - val_loss: 9.7240 - val_acc: 0.3964\n",
      "Epoch 6/25\n",
      "48000/48000 [==============================] - 4s 85us/step - loss: 9.7293 - acc: 0.3957 - val_loss: 9.7127 - val_acc: 0.3971\n",
      "Epoch 7/25\n",
      "48000/48000 [==============================] - 4s 75us/step - loss: 9.7166 - acc: 0.3966 - val_loss: 9.7098 - val_acc: 0.3969\n",
      "Epoch 8/25\n",
      "48000/48000 [==============================] - 4s 83us/step - loss: 9.0381 - acc: 0.4369 - val_loss: 7.3884 - val_acc: 0.5368\n",
      "Epoch 9/25\n",
      "48000/48000 [==============================] - 4s 84us/step - loss: 7.0185 - acc: 0.5615 - val_loss: 6.9661 - val_acc: 0.5641\n",
      "Epoch 10/25\n",
      "48000/48000 [==============================] - 4s 85us/step - loss: 6.8820 - acc: 0.5703 - val_loss: 6.8393 - val_acc: 0.5733\n",
      "Epoch 11/25\n",
      "48000/48000 [==============================] - 4s 84us/step - loss: 6.7875 - acc: 0.5764 - val_loss: 6.7754 - val_acc: 0.5775\n",
      "Epoch 12/25\n",
      "48000/48000 [==============================] - 4s 81us/step - loss: 6.7680 - acc: 0.5780 - val_loss: 6.7327 - val_acc: 0.5801\n",
      "Epoch 13/25\n",
      "48000/48000 [==============================] - 3s 71us/step - loss: 6.7097 - acc: 0.5819 - val_loss: 6.7323 - val_acc: 0.5804\n",
      "Epoch 14/25\n",
      "48000/48000 [==============================] - 4s 82us/step - loss: 6.6906 - acc: 0.5833 - val_loss: 6.8068 - val_acc: 0.5753\n",
      "Epoch 15/25\n",
      "48000/48000 [==============================] - 3s 69us/step - loss: 6.6889 - acc: 0.5835 - val_loss: 6.6954 - val_acc: 0.5833\n",
      "Epoch 16/25\n",
      "48000/48000 [==============================] - 2s 33us/step - loss: 6.6729 - acc: 0.5845 - val_loss: 6.6751 - val_acc: 0.5844\n",
      "Epoch 17/25\n",
      "48000/48000 [==============================] - 2s 40us/step - loss: 6.6419 - acc: 0.5863 - val_loss: 6.6814 - val_acc: 0.5836\n",
      "Epoch 18/25\n",
      "48000/48000 [==============================] - 2s 40us/step - loss: 5.9631 - acc: 0.6273 - val_loss: 5.4151 - val_acc: 0.6606\n",
      "Epoch 19/25\n",
      "48000/48000 [==============================] - 2s 35us/step - loss: 5.2583 - acc: 0.6711 - val_loss: 5.3419 - val_acc: 0.6654\n",
      "Epoch 20/25\n",
      "48000/48000 [==============================] - 2s 42us/step - loss: 4.4999 - acc: 0.7177 - val_loss: 3.8769 - val_acc: 0.7559\n",
      "Epoch 21/25\n",
      "48000/48000 [==============================] - 2s 41us/step - loss: 3.7460 - acc: 0.7648 - val_loss: 3.9579 - val_acc: 0.7513\n",
      "Epoch 22/25\n",
      "48000/48000 [==============================] - 2s 43us/step - loss: 3.6731 - acc: 0.7699 - val_loss: 3.7114 - val_acc: 0.7677\n",
      "Epoch 23/25\n",
      "48000/48000 [==============================] - 2s 42us/step - loss: 3.6402 - acc: 0.7719 - val_loss: 3.7134 - val_acc: 0.7667\n",
      "Epoch 24/25\n",
      "48000/48000 [==============================] - 2s 48us/step - loss: 3.6306 - acc: 0.7726 - val_loss: 3.7205 - val_acc: 0.7671\n",
      "Epoch 25/25\n",
      "48000/48000 [==============================] - 2s 43us/step - loss: 2.6847 - acc: 0.8303 - val_loss: 2.2370 - val_acc: 0.8583\n",
      "Training accuracy: 0.8303125001589458\n",
      "Validation accuracy: 0.8583333346048991\n"
     ]
    }
   ],
   "source": [
    "# 2 hidden layers\n",
    "model4 = models.Sequential()\n",
    "model4.add(layers.Dense(200, activation='relu', input_shape=(784,)))\n",
    "model4.add(layers.Dense(100, activation='relu'))\n",
    "model4.add(layers.Dense(10, activation='softmax'))\n",
    "\n",
    "#compile the model\n",
    "model4.compile(optimizer=\"rmsprop\",\n",
    "              loss='categorical_crossentropy',\n",
    "              metrics=['accuracy'])\n",
    "\n",
    "# Fitting the model:\n",
    "eps = 25\n",
    "history = model4.fit(x_train_part,\n",
    "                    y_train_part,\n",
    "                    batch_size=1024,\n",
    "                    epochs=eps,\n",
    "                    validation_data=(x_train_val, y_train_val))\n",
    "\n",
    "print(\"Training accuracy: {}\".format(history.history['acc'][-1]))\n",
    "print(\"Validation accuracy: {}\".format(history.history['val_acc'][-1]))"
   ]
  },
  {
   "cell_type": "code",
   "execution_count": 23,
   "metadata": {},
   "outputs": [
    {
     "data": {
      "image/png": "[encoded data removed]",
      "text/plain": [
       "<Figure size 432x288 with 1 Axes>"
      ]
     },
     "metadata": {
      "needs_background": "light"
     },
     "output_type": "display_data"
    }
   ],
   "source": [
    "# plot the learning parameters\n",
    "import matplotlib.pyplot as plt\n",
    "\n",
    "loss_values = history.history['loss']\n",
    "val_loss_values = history.history['val_loss']\n",
    "\n",
    "epochs = range(1, eps + 1)\n",
    "\n",
    "plt.plot(epochs, loss_values, 'g', label='Training Loss')\n",
    "plt.plot(epochs, val_loss_values, 'b', label='Validation Loss')\n",
    "plt.title('Training and Validation Loss')\n",
    "plt.xlabel('Epochs')\n",
    "plt.ylabel('Loss')\n",
    "plt.legend()\n",
    "\n",
    "plt.show()"
   ]
  },
  {
   "cell_type": "code",
   "execution_count": 24,
   "metadata": {},
   "outputs": [
    {
     "data": {
      "image/png": "[encoded data removed]",
      "text/plain": [
       "<Figure size 432x288 with 1 Axes>"
      ]
     },
     "metadata": {
      "needs_background": "light"
     },
     "output_type": "display_data"
    }
   ],
   "source": [
    "plt.clf()\n",
    "\n",
    "acc_values = history.history['acc']\n",
    "val_acc_values = history.history['val_acc']\n",
    "\n",
    "plt.plot(epochs, acc_values, 'g', label='Training Accuracy')\n",
    "plt.plot(epochs, val_acc_values, 'b', label='Validation Accuracy')\n",
    "plt.title('Training and Validation Accuracy')\n",
    "plt.xlabel('Epochs')\n",
    "plt.ylabel('Accuracy')\n",
    "plt.legend()\n",
    "\n",
    "plt.show()"
   ]
  },
  {
   "cell_type": "code",
   "execution_count": 25,
   "metadata": {},
   "outputs": [
    {
     "data": {
      "text/plain": [
       "array([[ 964,    0,    0,    0,    0,    2,    7,    1,    5,    1],\n",
       "       [   0, 1112,    4,    0,    0,    1,    6,    1,   11,    0],\n",
       "       [  11,    2,  953,    0,    4,    0,   24,    9,   28,    1],\n",
       "       [  12,   18,   58,    0,    2,  322,   26,   12,  417,  143],\n",
       "       [   0,    0,    1,    0,  935,    0,   16,    1,    5,   24],\n",
       "       [  11,    0,    0,    0,    3,  851,   12,    1,    9,    5],\n",
       "       [  11,    4,    1,    0,   12,   23,  897,    0,   10,    0],\n",
       "       [   0,    7,   13,    0,    1,    1,    5,  969,    8,   24],\n",
       "       [   7,    0,    1,    0,    5,   13,    4,    2,  930,   12],\n",
       "       [   4,    4,    0,    0,    9,    4,    1,    3,   13,  971]])"
      ]
     },
     "execution_count": 25,
     "metadata": {},
     "output_type": "execute_result"
    }
   ],
   "source": [
    "# Confusion Matrix\n",
    "y_pred = model4.predict(x_test.reshape(10000, 28*28))\n",
    "y_pred_test = np.argmax(y_pred, axis=1)\n",
    "\n",
    "confusion_matrix(y_test, y_pred_test)"
   ]
  },
  {
   "cell_type": "code",
   "execution_count": 26,
   "metadata": {},
   "outputs": [
    {
     "name": "stdout",
     "output_type": "stream",
     "text": [
      "              precision    recall  f1-score   support\n",
      "\n",
      "           0       0.95      0.98      0.96       980\n",
      "           1       0.97      0.98      0.97      1135\n",
      "           2       0.92      0.92      0.92      1032\n",
      "           3       0.00      0.00      0.00      1010\n",
      "           4       0.96      0.95      0.96       982\n",
      "           5       0.70      0.95      0.81       892\n",
      "           6       0.90      0.94      0.92       958\n",
      "           7       0.97      0.94      0.96      1028\n",
      "           8       0.65      0.95      0.77       974\n",
      "           9       0.82      0.96      0.89      1009\n",
      "\n",
      "   micro avg       0.86      0.86      0.86     10000\n",
      "   macro avg       0.78      0.86      0.82     10000\n",
      "weighted avg       0.79      0.86      0.82     10000\n",
      "\n"
     ]
    }
   ],
   "source": [
    "print(classification_report(y_test, y_pred_test))"
   ]
  },
  {
   "cell_type": "markdown",
   "metadata": {},
   "source": [
    "1. Which model gives the best accuracy? Which the best overall F1 score?\n",
    "According to the results of my latest run, the model that gives the best accuracy is the model with a single hidden layer, that contains 400 nodes. It resulted with an F1 score of 0.96.\n",
    "\n",
    "2. Which model gives the worst accuracy? Which the worst overall F1 score?\n",
    "According to the results of my latest run, the model that gives the best accuracy is the model with a single hidden layer, that contains only 100 nodes. It resulted with an F1 score of 0.67.\n",
    "\n",
    "3. What is the shape of the training set? How many nodes are in the input layer of the network?\n",
    "The initial shape of the training set is 3 dimensions, 60000 by 28 by 28. However, in order to feed the data into the neural network as inputs, the data needs to be in a flat array. This is accomplished by calling reshape on the data, and making room in the 2nd dimension for 28 * 28 spots. This comes out to 784, for a new shape of 60000 by 784. 784 is how many nodes are in the input layer of the network.\n",
    "\n",
    "4. Why do you think the best/worst networks are that way?\n",
    "I believe that the Neural Network model that contains a single hidden layer with 400 nodes was the best network because it had the largest amount of nodes in its hidden layer. Because of the fact that our input layer had so many nodes (784), I think it was key to have a large hidden layer to prevent information bottlenecking. I hypothesize that a model with 2 hidden layers, each containing 400 nodes would have the most success as far as F1 score. Onto the worst network, it was the model that contained a single hidden layer with only 100 nodes. I believe that information bottleneck occurred during this model's training, because we were trying to \"cram\" 784 inputs through a hidden layer that only allowed for 100 spots.\n",
    "\n",
    "5. Experiment and try to create a better performing network. Explain what you tried and document the results.\n",
    "The 5th experimental Neural Network model below contains 2 hidden layers, the first with 400 nodes, and the second with 100 nodes, for a total of 500 nodes shared between the 2 hidden layers. I tried a lot of different variations before discovering this one, which had an f1 score of 0.96! I tried 2 hidden layers both with 350 nodes each and that was subpar, with a score of barely above 0.50, and I also tried a single hidden layer with 500 nodes in it, and while it had a score of 0.78, it was still very subpar compared to even a single hidden layer with 400 nodes in it."
   ]
  },
  {
   "cell_type": "code",
   "execution_count": 42,
   "metadata": {},
   "outputs": [
    {
     "name": "stdout",
     "output_type": "stream",
     "text": [
      "Train on 48000 samples, validate on 12000 samples\n",
      "Epoch 1/25\n",
      "48000/48000 [==============================] - 4s 79us/step - loss: 5.4032 - acc: 0.6567 - val_loss: 3.3116 - val_acc: 0.7882\n",
      "Epoch 2/25\n",
      "48000/48000 [==============================] - 3s 71us/step - loss: 2.9860 - acc: 0.8087 - val_loss: 3.3458 - val_acc: 0.7857\n",
      "Epoch 3/25\n",
      "48000/48000 [==============================] - 4s 74us/step - loss: 2.6499 - acc: 0.8312 - val_loss: 2.5706 - val_acc: 0.8360\n",
      "Epoch 4/25\n",
      "48000/48000 [==============================] - 3s 73us/step - loss: 2.4663 - acc: 0.8429 - val_loss: 2.5836 - val_acc: 0.8350\n",
      "Epoch 5/25\n",
      "48000/48000 [==============================] - 4s 73us/step - loss: 2.3813 - acc: 0.8490 - val_loss: 2.3152 - val_acc: 0.8524\n",
      "Epoch 6/25\n",
      "48000/48000 [==============================] - 4s 74us/step - loss: 2.2995 - acc: 0.8542 - val_loss: 2.4845 - val_acc: 0.8428\n",
      "Epoch 7/25\n",
      "48000/48000 [==============================] - 3s 73us/step - loss: 2.2703 - acc: 0.8564 - val_loss: 2.4644 - val_acc: 0.8443\n",
      "Epoch 8/25\n",
      "48000/48000 [==============================] - 3s 73us/step - loss: 2.2180 - acc: 0.8599 - val_loss: 2.3074 - val_acc: 0.8535\n",
      "Epoch 9/25\n",
      "48000/48000 [==============================] - 4s 74us/step - loss: 2.2076 - acc: 0.8608 - val_loss: 2.3430 - val_acc: 0.8525\n",
      "Epoch 10/25\n",
      "48000/48000 [==============================] - 3s 73us/step - loss: 2.1930 - acc: 0.8614 - val_loss: 2.2884 - val_acc: 0.8558\n",
      "Epoch 11/25\n",
      "48000/48000 [==============================] - 3s 72us/step - loss: 2.1606 - acc: 0.8639 - val_loss: 2.3379 - val_acc: 0.8520\n",
      "Epoch 12/25\n",
      "48000/48000 [==============================] - 3s 72us/step - loss: 2.1399 - acc: 0.8655 - val_loss: 2.3149 - val_acc: 0.8540\n",
      "Epoch 13/25\n",
      "48000/48000 [==============================] - 4s 74us/step - loss: 2.0914 - acc: 0.8684 - val_loss: 2.1375 - val_acc: 0.8658\n",
      "Epoch 14/25\n",
      "48000/48000 [==============================] - 4s 73us/step - loss: 2.1179 - acc: 0.8670 - val_loss: 2.3889 - val_acc: 0.8488\n",
      "Epoch 15/25\n",
      "48000/48000 [==============================] - 4s 75us/step - loss: 2.0728 - acc: 0.8698 - val_loss: 2.2098 - val_acc: 0.8608\n",
      "Epoch 16/25\n",
      "48000/48000 [==============================] - 4s 74us/step - loss: 2.0853 - acc: 0.8691 - val_loss: 2.1675 - val_acc: 0.8638\n",
      "Epoch 17/25\n",
      "48000/48000 [==============================] - 4s 77us/step - loss: 2.0371 - acc: 0.8719 - val_loss: 2.1364 - val_acc: 0.8654\n",
      "Epoch 18/25\n",
      "48000/48000 [==============================] - 4s 76us/step - loss: 2.0625 - acc: 0.8708 - val_loss: 2.1979 - val_acc: 0.8616\n",
      "Epoch 19/25\n",
      "48000/48000 [==============================] - 4s 74us/step - loss: 2.0515 - acc: 0.8711 - val_loss: 2.1152 - val_acc: 0.8668\n",
      "Epoch 20/25\n",
      "48000/48000 [==============================] - 4s 75us/step - loss: 2.0049 - acc: 0.8742 - val_loss: 2.2544 - val_acc: 0.8583\n",
      "Epoch 21/25\n",
      "48000/48000 [==============================] - 4s 74us/step - loss: 1.9918 - acc: 0.8752 - val_loss: 2.0852 - val_acc: 0.8690\n",
      "Epoch 22/25\n",
      "48000/48000 [==============================] - 4s 74us/step - loss: 1.9880 - acc: 0.8752 - val_loss: 1.9899 - val_acc: 0.8748\n",
      "Epoch 23/25\n",
      "48000/48000 [==============================] - 4s 75us/step - loss: 1.0725 - acc: 0.9306 - val_loss: 0.9163 - val_acc: 0.9401\n",
      "Epoch 24/25\n",
      "48000/48000 [==============================] - 4s 74us/step - loss: 0.6955 - acc: 0.9548 - val_loss: 0.8800 - val_acc: 0.9430\n",
      "Epoch 25/25\n",
      "48000/48000 [==============================] - 4s 74us/step - loss: 0.6444 - acc: 0.9579 - val_loss: 0.6729 - val_acc: 0.9564\n",
      "Training accuracy: 0.9579166668256124\n",
      "Validation accuracy: 0.9564166669845581\n"
     ]
    }
   ],
   "source": [
    "model5 = models.Sequential()\n",
    "model5.add(layers.Dense(400, activation='relu', input_shape=(784,)))\n",
    "model5.add(layers.Dense(100, activation='relu'))\n",
    "model5.add(layers.Dense(10, activation='softmax'))\n",
    "\n",
    "# compile the model\n",
    "model5.compile(optimizer='rmsprop',\n",
    "              loss='categorical_crossentropy',\n",
    "              metrics=['accuracy'])\n",
    "\n",
    "# Now I will fit the model:\n",
    "eps = 25\n",
    "history = model5.fit(x_train_part,\n",
    "                    y_train_part,\n",
    "                    batch_size=1024,\n",
    "                    epochs=eps,\n",
    "                    validation_data=(x_train_val, y_train_val))\n",
    "\n",
    "print(\"Training accuracy: {}\".format(history.history['acc'][-1]))\n",
    "print(\"Validation accuracy: {}\".format(history.history['val_acc'][-1]))"
   ]
  },
  {
   "cell_type": "code",
   "execution_count": 43,
   "metadata": {},
   "outputs": [
    {
     "data": {
      "image/png": "[encoded data removed]",
      "text/plain": [
       "<Figure size 432x288 with 1 Axes>"
      ]
     },
     "metadata": {
      "needs_background": "light"
     },
     "output_type": "display_data"
    }
   ],
   "source": [
    "# plot the learning parameters\n",
    "import matplotlib.pyplot as plt\n",
    "\n",
    "loss_values = history.history['loss']\n",
    "val_loss_values = history.history['val_loss']\n",
    "\n",
    "epochs = range(1, eps + 1)\n",
    "\n",
    "plt.plot(epochs, loss_values, 'g', label='Training Loss')\n",
    "plt.plot(epochs, val_loss_values, 'b', label='Validation Loss')\n",
    "plt.title('Training and Validation Loss')\n",
    "plt.xlabel('Epochs')\n",
    "plt.ylabel('Loss')\n",
    "plt.legend()\n",
    "\n",
    "plt.show()"
   ]
  },
  {
   "cell_type": "code",
   "execution_count": 44,
   "metadata": {},
   "outputs": [
    {
     "data": {
      "image/png": "[encoded data removed]",
      "text/plain": [
       "<Figure size 432x288 with 1 Axes>"
      ]
     },
     "metadata": {
      "needs_background": "light"
     },
     "output_type": "display_data"
    }
   ],
   "source": [
    "plt.clf()\n",
    "\n",
    "acc_values = history.history['acc']\n",
    "val_acc_values = history.history['val_acc']\n",
    "\n",
    "plt.plot(epochs, acc_values, 'g', label='Training Accuracy')\n",
    "plt.plot(epochs, val_acc_values, 'b', label='Validation Accuracy')\n",
    "plt.title('Training and Validation Accuracy')\n",
    "plt.xlabel('Epochs')\n",
    "plt.ylabel('Accuracy')\n",
    "plt.legend()\n",
    "\n",
    "plt.show()"
   ]
  },
  {
   "cell_type": "code",
   "execution_count": 45,
   "metadata": {},
   "outputs": [
    {
     "data": {
      "text/plain": [
       "array([[ 963,    1,    1,    0,    0,    3,    3,    1,    6,    2],\n",
       "       [   0, 1124,    4,    0,    0,    0,    2,    0,    5,    0],\n",
       "       [   6,    2,  998,    0,    3,    1,    2,    7,   11,    2],\n",
       "       [   0,    2,   25,  936,    1,   18,    0,    5,   12,   11],\n",
       "       [   0,    0,    6,    0,  959,    0,    3,    0,    2,   12],\n",
       "       [   3,    1,    1,   11,    3,  857,    5,    3,    5,    3],\n",
       "       [   8,    2,    0,    1,    9,    5,  931,    0,    2,    0],\n",
       "       [   1,    8,   14,    1,   10,    0,    0,  950,    1,   43],\n",
       "       [   7,    3,    7,    4,    7,    4,    6,    4,  923,    9],\n",
       "       [   4,    5,    0,    9,   37,   10,    1,   14,    3,  926]])"
      ]
     },
     "execution_count": 45,
     "metadata": {},
     "output_type": "execute_result"
    }
   ],
   "source": [
    "# Confusion Matrix\n",
    "y_pred = model5.predict(x_test.reshape(10000, 28*28))\n",
    "y_pred_test = np.argmax(y_pred, axis=1)\n",
    "\n",
    "confusion_matrix(y_test, y_pred_test)"
   ]
  },
  {
   "cell_type": "code",
   "execution_count": 46,
   "metadata": {},
   "outputs": [
    {
     "name": "stdout",
     "output_type": "stream",
     "text": [
      "              precision    recall  f1-score   support\n",
      "\n",
      "           0       0.97      0.98      0.98       980\n",
      "           1       0.98      0.99      0.98      1135\n",
      "           2       0.95      0.97      0.96      1032\n",
      "           3       0.97      0.93      0.95      1010\n",
      "           4       0.93      0.98      0.95       982\n",
      "           5       0.95      0.96      0.96       892\n",
      "           6       0.98      0.97      0.97       958\n",
      "           7       0.97      0.92      0.94      1028\n",
      "           8       0.95      0.95      0.95       974\n",
      "           9       0.92      0.92      0.92      1009\n",
      "\n",
      "   micro avg       0.96      0.96      0.96     10000\n",
      "   macro avg       0.96      0.96      0.96     10000\n",
      "weighted avg       0.96      0.96      0.96     10000\n",
      "\n"
     ]
    }
   ],
   "source": [
    "print(classification_report(y_test, y_pred_test))"
   ]
  },
  {
   "cell_type": "code",
   "execution_count": null,
   "metadata": {},
   "outputs": [],
   "source": []
  }
 ],
 "metadata": {
  "kernelspec": {
   "display_name": "Python 3",
   "language": "python",
   "name": "python3"
  },
  "language_info": {
   "codemirror_mode": {
    "name": "ipython",
    "version": 3
   },
   "file_extension": ".py",
   "mimetype": "text/x-python",
   "name": "python",
   "nbconvert_exporter": "python",
   "pygments_lexer": "ipython3",
   "version": "3.6.7"
  }
 },
 "nbformat": 4,
 "nbformat_minor": 2
}
