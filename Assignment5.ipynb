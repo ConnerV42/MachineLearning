{
 "cells": [
  {
   "cell_type": "markdown",
   "metadata": {},
   "source": [
    "In this Jupyter Notebook, I am going to create 2 Convolutional Neural Networks for the purposes of building a predictor for the MNIST handwritten digit data set. There are 60,000 photos of handwritten digits in the MNIST data set, and we will be using that data to learn our Convolutional Neural Networks.\n",
    "\n",
    "For the first network, we are going to follow the following structure:\n",
    "* A single conv2d layer\n",
    "* One pooling layer\n",
    "* One fully connected layer\n",
    "* One softmax layer\n",
    "\n",
    "The 2D convolutional layers are what processes the 2D MNIST input images. The first argument passed to Conv2D() is the number of output channels, which in our case is 32. The next is the kernel size, which in this example is a 5 by 5 moving window. Next, our activation function is specificed as \"Rectified linear unit.\" Lastly, we are specifying the input shape as the input shape. ######EDIT THIS######"
   ]
  },
  {
   "cell_type": "code",
   "execution_count": null,
   "metadata": {},
   "outputs": [],
   "source": [
    "import keras\n",
    "from keras.datasets import mnist\n",
    "from keras.layers import Dense, Flatten, Conv2D, MaxPooling2D\n",
    "from keras.models import Sequential\n",
    "from keras.utils import to_categorical\n",
    "import matplotlib.pylab as plt\n",
    "import matplotlib.cm as cm\n",
    "\n",
    "batch_size = 128\n",
    "num_classes = 10\n",
    "epochs = 10\n",
    "\n",
    "# input image dimensions\n",
    "img_x, img_y = 28, 28\n",
    "\n",
    "# load the mnist data set\n",
    "(x_train, y_train), (x_test, y_test) = mnist.load_data()\n",
    "\n",
    "# reshape the data into a 4D tension - (sample numher, x_img_size, y_img_size, num_channles)\n",
    "# because the MNIST is greyscale, we only have a single channel - RGB colour images would have 3\n",
    "x_train = x_train.reshape(x_train.shape[0], img_x, img_y, 1)\n",
    "x_test = x_test.reshape(x_test.shape[0], img_x, img_y, 1)\n",
    "input_shape = (img_x, img_y, 1)\n",
    "\n",
    "# convert the data to the right type\n",
    "x_train = x_train.astype('float32')\n",
    "x_test = x_test.astype('float32')\n",
    "x_train /= 255\n",
    "x_test /= 255\n",
    "print('x_train shape:', x_train.shape)\n",
    "print(x_train.shape[0], 'train samples')\n",
    "print(x_test.shape[0], 'test samples')\n",
    "\n",
    "# convert class vectors to binary class matrices - this is for use in the\n",
    "# categorical_crossentropy loss below\n",
    "y_train = to_categorical(y_train, num_classes)\n",
    "y_test = to_categorical(y_test, num_classes)"
   ]
  },
  {
   "cell_type": "code",
   "execution_count": 4,
   "metadata": {},
   "outputs": [
    {
     "name": "stdout",
     "output_type": "stream",
     "text": [
      "x_train shape: (60000, 28, 28, 1)\n",
      "60000 train samples\n",
      "10000 test samples\n",
      "Train on 60000 samples, validate on 10000 samples\n",
      "Epoch 1/10\n",
      "60000/60000 [==============================] - 111s 2ms/step - loss: 0.1520 - acc: 0.9533 - val_loss: 0.0502 - val_acc: 0.9835\n",
      "Epoch 2/10\n",
      "60000/60000 [==============================] - 109s 2ms/step - loss: 0.0449 - acc: 0.9855 - val_loss: 0.0381 - val_acc: 0.9876\n",
      "Epoch 3/10\n",
      "60000/60000 [==============================] - 97s 2ms/step - loss: 0.0275 - acc: 0.9911 - val_loss: 0.0344 - val_acc: 0.9885\n",
      "Epoch 4/10\n",
      "60000/60000 [==============================] - 98s 2ms/step - loss: 0.0196 - acc: 0.9935 - val_loss: 0.0425 - val_acc: 0.9868\n",
      "Epoch 5/10\n",
      "60000/60000 [==============================] - 99s 2ms/step - loss: 0.0111 - acc: 0.9966 - val_loss: 0.0355 - val_acc: 0.9886\n",
      "Epoch 6/10\n",
      "60000/60000 [==============================] - 100s 2ms/step - loss: 0.0098 - acc: 0.9968 - val_loss: 0.0371 - val_acc: 0.9892\n",
      "Epoch 7/10\n",
      "60000/60000 [==============================] - 101s 2ms/step - loss: 0.0092 - acc: 0.9969 - val_loss: 0.0457 - val_acc: 0.9893\n",
      "Epoch 8/10\n",
      "60000/60000 [==============================] - 101s 2ms/step - loss: 0.0084 - acc: 0.9973 - val_loss: 0.0389 - val_acc: 0.9888\n",
      "Epoch 9/10\n",
      "60000/60000 [==============================] - 101s 2ms/step - loss: 0.0069 - acc: 0.9977 - val_loss: 0.0453 - val_acc: 0.9880\n",
      "Epoch 10/10\n",
      "60000/60000 [==============================] - 101s 2ms/step - loss: 0.0063 - acc: 0.9978 - val_loss: 0.0381 - val_acc: 0.9904\n",
      "Test loss: 0.03808534518874003\n",
      "Test accuracy: 0.9904\n"
     ]
    },
    {
     "data": {
      "image/png": "[encoded data removed]",
      "text/plain": [
       "<Figure size 432x288 with 1 Axes>"
      ]
     },
     "metadata": {
      "needs_background": "light"
     },
     "output_type": "display_data"
    }
   ],
   "source": [
    "model = Sequential()\n",
    "model.add(Conv2D(32, kernel_size=(5, 5), strides=(1, 1),\n",
    "                activation='relu',\n",
    "                input_shape=input_shape))\n",
    "model.add(MaxPooling2D(pool_size=(2, 2), strides=(2, 2)))\n",
    "model.add(Flatten())\n",
    "model.add(Dense(1000, activation='relu'))\n",
    "model.add(Dense(num_classes, activation='softmax'))\n",
    "\n",
    "model.compile(loss=keras.losses.categorical_crossentropy,\n",
    "             optimizer=keras.optimizers.Adam(),\n",
    "             metrics=['accuracy'])\n",
    "\n",
    "class AccuracyHistory(keras.callbacks.Callback):\n",
    "    def on_train_begin(self, logs={}):\n",
    "        self.acc = []\n",
    "        \n",
    "    def on_epoch_end(self, batch, logs={}):\n",
    "        self.acc.append(logs.get('acc'))\n",
    "        \n",
    "history = AccuracyHistory()\n",
    "\n",
    "model.fit(x_train, y_train,\n",
    "         batch_size=batch_size,\n",
    "         epochs=epochs,\n",
    "         verbose=1,\n",
    "         validation_data=(x_test, y_test),\n",
    "         callbacks=[history])\n",
    "score = model.evaluate(x_test, y_test, verbose=0)\n",
    "print('Test loss:', score[0])\n",
    "print('Test accuracy:', score[1])\n",
    "plt.plot(range(1, 11), history.acc)\n",
    "plt.xlabel('Epochs')\n",
    "plt.ylabel('Accuracy')\n",
    "plt.show()"
   ]
  },
  {
   "cell_type": "markdown",
   "metadata": {},
   "source": [
    "Questions:\n",
    "\n",
    "How many hidden layers are in your network?\n",
    "\n",
    "How many convolutions are calculated in each convolution layer?\n",
    "\n",
    "Run a single test example through the model and print some of the convolved images from the first layer. Can you see any feaatures from the image that are revealed by printing?\n",
    "\n",
    "Print a couple of the convolution kernels as matrices (no need to print images). What kind of patterns can you see in the convolution kernels?"
   ]
  },
  {
   "cell_type": "markdown",
   "metadata": {},
   "source": [
    "For the 2nd network, we are going to follow the following structure:\n",
    "\n",
    "* 2 Convolutional layers\n",
    "* One pooling layer\n",
    "* One fully connected layer\n",
    "* One softmax layer"
   ]
  },
  {
   "cell_type": "code",
   "execution_count": null,
   "metadata": {},
   "outputs": [],
   "source": [
    "model2 = Sequential()\n",
    "model2.add(Conv2D(32, kernel_size=(5, 5), strides=(1, 1),\n",
    "                activation='relu',\n",
    "                input_shape=input_shape))\n",
    "model2.add(MaxPooling2D(pool_size=(2, 2), strides=(2, 2)))\n",
    "model2.add(Conv2D(64, (5, 5), activation='relu'))\n",
    "model2.add(Flatten())\n",
    "model2.add(Dense(1000, activation='relu'))\n",
    "model2.add(Dense(num_classes, activation='softmax'))\n",
    "\n",
    "model2.compile(loss=keras.losses.categorical_crossentropy,\n",
    "             optimizer=keras.optimizers.Adam(),\n",
    "             metrics=['accuracy'])"
   ]
  },
  {
   "cell_type": "markdown",
   "metadata": {},
   "source": [
    "Questions:\n",
    "\n",
    "How many hidden layers are in your network?\n",
    "\n",
    "How many convolutions are calculated in each convolution layer?\n",
    "\n",
    "Run a single test example through the model and print some of the convolved images from the first layer. Can you see any feaatures from the image that are revealed by printing?\n",
    "\n",
    "Print a couple of the convolution kernels as matrices (no need to print images). What kind of patterns can you see in the convolution kernels?"
   ]
  }
 ],
 "metadata": {
  "kernelspec": {
   "display_name": "Python 3",
   "language": "python",
   "name": "python3"
  },
  "language_info": {
   "codemirror_mode": {
    "name": "ipython",
    "version": 3
   },
   "file_extension": ".py",
   "mimetype": "text/x-python",
   "name": "python",
   "nbconvert_exporter": "python",
   "pygments_lexer": "ipython3",
   "version": "3.6.7"
  }
 },
 "nbformat": 4,
 "nbformat_minor": 2
}
